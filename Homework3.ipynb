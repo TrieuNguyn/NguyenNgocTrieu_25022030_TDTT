{
 "cells": [
  {
   "cell_type": "code",
   "execution_count": 3,
   "id": "dbc23afc-ba4b-4c68-9408-719dd15a19cb",
   "metadata": {},
   "outputs": [
    {
     "name": "stdout",
     "output_type": "stream",
     "text": [
      "1 3 5 7 9 11 13 15 17 19 21 23 25 27 29 31 33 35 37 39 41 43 45 47 49 51 53 55 57 59 61 63 65 67 69 71 73 75 77 79 81 83 85 87 89 91 93 95 97 99 "
     ]
    }
   ],
   "source": [
    "# Bài 1\n",
    "for i in range(100):\n",
    "    if i%2==1:\n",
    "        print(i, end=\" \")"
   ]
  },
  {
   "cell_type": "code",
   "execution_count": 6,
   "id": "5731b479-e817-4182-a3f4-46c4e51da1b0",
   "metadata": {},
   "outputs": [
    {
     "name": "stdout",
     "output_type": "stream",
     "text": [
      "6 12 18 24 30 36 42 48 54 60 66 72 78 84 90 96 "
     ]
    }
   ],
   "source": [
    "# Bài 2\n",
    "for i in range(6,100,6):\n",
    "    print(i, end=\" \")"
   ]
  },
  {
   "cell_type": "code",
   "execution_count": 10,
   "id": "ba062723-fe25-4241-9b4f-b6b5f2a253b6",
   "metadata": {},
   "outputs": [
    {
     "name": "stdin",
     "output_type": "stream",
     "text": [
      " 5\n"
     ]
    },
    {
     "name": "stdout",
     "output_type": "stream",
     "text": [
      "5*0=0\n",
      "5*1=5\n",
      "5*2=10\n",
      "5*3=15\n",
      "5*4=20\n",
      "5*5=25\n",
      "5*6=30\n",
      "5*7=35\n",
      "5*8=40\n",
      "5*9=45\n",
      "5*10=50\n"
     ]
    }
   ],
   "source": [
    "# Bài 3\n",
    "a = int(input())\n",
    "for i in range(11):\n",
    "    print(f\"{a}*{i}={a*i}\")"
   ]
  },
  {
   "cell_type": "code",
   "execution_count": 27,
   "id": "c57d0355-9013-49a9-a2e3-cfb0590bfdc0",
   "metadata": {},
   "outputs": [
    {
     "name": "stdin",
     "output_type": "stream",
     "text": [
      " 6\n"
     ]
    },
    {
     "name": "stdout",
     "output_type": "stream",
     "text": [
      "     *\n",
      "    * *\n",
      "   *   *\n",
      "  *     *\n",
      " *       *\n",
      "***********\n"
     ]
    }
   ],
   "source": [
    "# Bài 4\n",
    "h = int(input())\n",
    "for i in range(1,h+1):\n",
    "    if i==1:\n",
    "        print(\" \"*(h-i)+\"*\")\n",
    "    elif i==h:\n",
    "        print(\"*\"*(2*h-1))\n",
    "    else:\n",
    "        # print(\" \"*(h-i)+\"*\"*(2*i-1))\n",
    "        print(\" \"*(h-i)+\"*\"+\" \"*(2*i-3)+\"*\")"
   ]
  },
  {
   "cell_type": "code",
   "execution_count": 28,
   "id": "ffc5a780-953a-40a3-a5d4-e0a674a2334c",
   "metadata": {},
   "outputs": [
    {
     "name": "stdin",
     "output_type": "stream",
     "text": [
      " 5\n"
     ]
    },
    {
     "name": "stdout",
     "output_type": "stream",
     "text": [
      "15\n"
     ]
    }
   ],
   "source": [
    "# Bài 5\n",
    "n = int(input())\n",
    "Sum = 0\n",
    "for i in range(1,n+1):\n",
    "    Sum += i\n",
    "print(Sum)"
   ]
  },
  {
   "cell_type": "code",
   "execution_count": 30,
   "id": "0f2af6dc-4407-4715-bd2c-bec614c020d8",
   "metadata": {},
   "outputs": [
    {
     "name": "stdin",
     "output_type": "stream",
     "text": [
      " 12\n"
     ]
    },
    {
     "name": "stdout",
     "output_type": "stream",
     "text": [
      "1 2 3 4 6 12 "
     ]
    }
   ],
   "source": [
    "# Bài 6\n",
    "a = int(input())\n",
    "for i in range(1,a+1):\n",
    "    if a%i==0:\n",
    "        print(i, end=\" \")"
   ]
  },
  {
   "cell_type": "code",
   "execution_count": 33,
   "id": "f66254b7-2cbe-4310-9b2c-402ebb344eea",
   "metadata": {},
   "outputs": [
    {
     "name": "stdin",
     "output_type": "stream",
     "text": [
      " 12\n"
     ]
    },
    {
     "name": "stdout",
     "output_type": "stream",
     "text": [
      "6\n"
     ]
    }
   ],
   "source": [
    "# Bài 7\n",
    "a = int(input())\n",
    "count = 0\n",
    "for i in range(1,a+1):\n",
    "    if a%i==0:\n",
    "        count += 1\n",
    "print(count)"
   ]
  },
  {
   "cell_type": "code",
   "execution_count": 36,
   "id": "f7500a70-b5ba-4288-b04d-3ad5175ed872",
   "metadata": {},
   "outputs": [
    {
     "name": "stdin",
     "output_type": "stream",
     "text": [
      " 6 32\n"
     ]
    },
    {
     "name": "stdout",
     "output_type": "stream",
     "text": [
      "1 2 "
     ]
    }
   ],
   "source": [
    "# Bài 8\n",
    "a, b = map(int, input().split())\n",
    "for i in range(1,min([a,b])+1):\n",
    "    if a%i==0 and b%i==0:\n",
    "        print(i, end=\" \")"
   ]
  },
  {
   "cell_type": "code",
   "execution_count": 26,
   "id": "eb86619b-f9c7-45a8-9a16-d69023c3bfa5",
   "metadata": {},
   "outputs": [
    {
     "name": "stdin",
     "output_type": "stream",
     "text": [
      " 0\n"
     ]
    },
    {
     "name": "stdout",
     "output_type": "stream",
     "text": [
      "0 là một số chính phương\n"
     ]
    }
   ],
   "source": [
    "# Bài 9\n",
    "from math import sqrt\n",
    "n = int(input())\n",
    "# if int(sqrt(n)) == sqrt(n):\n",
    "#     print(n, \"là một số chính phương\")\n",
    "# else:\n",
    "#     print(n, \"không phải một số chính phương\")\n",
    "flag = n==0 or n==1\n",
    "left = 1\n",
    "right = n//2+1\n",
    "while n>1:\n",
    "    n_sqrt = (left+right)//2\n",
    "    if n_sqrt**2 < n:\n",
    "        left = n_sqrt\n",
    "    elif n_sqrt**2 > n:\n",
    "        right = n_sqrt\n",
    "    else:\n",
    "        flag = True\n",
    "        break\n",
    "    if right-left<=1:\n",
    "        break\n",
    "if flag:\n",
    "    print(n, \"là một số chính phương\")\n",
    "else:\n",
    "    print(n, \"không phải một số chính phương\")"
   ]
  },
  {
   "cell_type": "code",
   "execution_count": null,
   "id": "465448db-f355-48dd-8c25-05d118f70c9f",
   "metadata": {},
   "outputs": [],
   "source": []
  }
 ],
 "metadata": {
  "kernelspec": {
   "display_name": "Python 3 (ipykernel)",
   "language": "python",
   "name": "python3"
  },
  "language_info": {
   "codemirror_mode": {
    "name": "ipython",
    "version": 3
   },
   "file_extension": ".py",
   "mimetype": "text/x-python",
   "name": "python",
   "nbconvert_exporter": "python",
   "pygments_lexer": "ipython3",
   "version": "3.13.7"
  }
 },
 "nbformat": 4,
 "nbformat_minor": 5
}
