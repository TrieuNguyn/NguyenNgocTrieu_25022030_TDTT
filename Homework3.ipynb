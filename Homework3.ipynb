{
 "cells": [
  {
   "cell_type": "code",
   "execution_count": 3,
   "id": "dbc23afc-ba4b-4c68-9408-719dd15a19cb",
   "metadata": {},
   "outputs": [
    {
     "name": "stdout",
     "output_type": "stream",
     "text": [
      "1 3 5 7 9 11 13 15 17 19 21 23 25 27 29 31 33 35 37 39 41 43 45 47 49 51 53 55 57 59 61 63 65 67 69 71 73 75 77 79 81 83 85 87 89 91 93 95 97 99 "
     ]
    }
   ],
   "source": [
    "# Bài 1\n",
    "for i in range(100):\n",
    "    if i%2==1:\n",
    "        print(i, end=\" \")"
   ]
  },
  {
   "cell_type": "code",
   "execution_count": 6,
   "id": "5731b479-e817-4182-a3f4-46c4e51da1b0",
   "metadata": {},
   "outputs": [
    {
     "name": "stdout",
     "output_type": "stream",
     "text": [
      "6 12 18 24 30 36 42 48 54 60 66 72 78 84 90 96 "
     ]
    }
   ],
   "source": [
    "# Bài 2\n",
    "for i in range(6,100,6):\n",
    "    print(i, end=\" \")"
   ]
  },
  {
   "cell_type": "code",
   "execution_count": 10,
   "id": "ba062723-fe25-4241-9b4f-b6b5f2a253b6",
   "metadata": {},
   "outputs": [
    {
     "name": "stdin",
     "output_type": "stream",
     "text": [
      " 5\n"
     ]
    },
    {
     "name": "stdout",
     "output_type": "stream",
     "text": [
      "5*0=0\n",
      "5*1=5\n",
      "5*2=10\n",
      "5*3=15\n",
      "5*4=20\n",
      "5*5=25\n",
      "5*6=30\n",
      "5*7=35\n",
      "5*8=40\n",
      "5*9=45\n",
      "5*10=50\n"
     ]
    }
   ],
   "source": [
    "# Bài 3\n",
    "a = int(input())\n",
    "for i in range(11):\n",
    "    print(f\"{a}*{i}={a*i}\")"
   ]
  },
  {
   "cell_type": "code",
   "execution_count": 27,
   "id": "c57d0355-9013-49a9-a2e3-cfb0590bfdc0",
   "metadata": {},
   "outputs": [
    {
     "name": "stdin",
     "output_type": "stream",
     "text": [
      " 6\n"
     ]
    },
    {
     "name": "stdout",
     "output_type": "stream",
     "text": [
      "     *\n",
      "    * *\n",
      "   *   *\n",
      "  *     *\n",
      " *       *\n",
      "***********\n"
     ]
    }
   ],
   "source": [
    "# Bài 4\n",
    "h = int(input())\n",
    "for i in range(1,h+1):\n",
    "    if i==1:\n",
    "        print(\" \"*(h-i)+\"*\")\n",
    "    elif i==h:\n",
    "        print(\"*\"*(2*h-1))\n",
    "    else:\n",
    "        # print(\" \"*(h-i)+\"*\"*(2*i-1))\n",
    "        print(\" \"*(h-i)+\"*\"+\" \"*(2*i-3)+\"*\")"
   ]
  },
  {
   "cell_type": "code",
   "execution_count": 28,
   "id": "ffc5a780-953a-40a3-a5d4-e0a674a2334c",
   "metadata": {},
   "outputs": [
    {
     "name": "stdin",
     "output_type": "stream",
     "text": [
      " 5\n"
     ]
    },
    {
     "name": "stdout",
     "output_type": "stream",
     "text": [
      "15\n"
     ]
    }
   ],
   "source": [
    "# Bài 5\n",
    "n = int(input())\n",
    "Sum = 0\n",
    "for i in range(1,n+1):\n",
    "    Sum += i\n",
    "print(Sum)"
   ]
  },
  {
   "cell_type": "code",
   "execution_count": 30,
   "id": "0f2af6dc-4407-4715-bd2c-bec614c020d8",
   "metadata": {},
   "outputs": [
    {
     "name": "stdin",
     "output_type": "stream",
     "text": [
      " 12\n"
     ]
    },
    {
     "name": "stdout",
     "output_type": "stream",
     "text": [
      "1 2 3 4 6 12 "
     ]
    }
   ],
   "source": [
    "# Bài 6\n",
    "a = int(input())\n",
    "for i in range(1,a+1):\n",
    "    if a%i==0:\n",
    "        print(i, end=\" \")"
   ]
  },
  {
   "cell_type": "code",
   "execution_count": 33,
   "id": "f66254b7-2cbe-4310-9b2c-402ebb344eea",
   "metadata": {},
   "outputs": [
    {
     "name": "stdin",
     "output_type": "stream",
     "text": [
      " 12\n"
     ]
    },
    {
     "name": "stdout",
     "output_type": "stream",
     "text": [
      "6\n"
     ]
    }
   ],
   "source": [
    "# Bài 7\n",
    "a = int(input())\n",
    "count = 0\n",
    "for i in range(1,a+1):\n",
    "    if a%i==0:\n",
    "        count += 1\n",
    "print(count)"
   ]
  },
  {
   "cell_type": "code",
   "execution_count": 36,
   "id": "f7500a70-b5ba-4288-b04d-3ad5175ed872",
   "metadata": {},
   "outputs": [
    {
     "name": "stdin",
     "output_type": "stream",
     "text": [
      " 6 32\n"
     ]
    },
    {
     "name": "stdout",
     "output_type": "stream",
     "text": [
      "1 2 "
     ]
    }
   ],
   "source": [
    "# Bài 8\n",
    "a, b = map(int, input().split())\n",
    "for i in range(1,min([a,b])+1):\n",
    "    if a%i==0 and b%i==0:\n",
    "        print(i, end=\" \")"
   ]
  },
  {
   "cell_type": "code",
   "execution_count": 26,
   "id": "eb86619b-f9c7-45a8-9a16-d69023c3bfa5",
   "metadata": {},
   "outputs": [
    {
     "name": "stdin",
     "output_type": "stream",
     "text": [
      " 0\n"
     ]
    },
    {
     "name": "stdout",
     "output_type": "stream",
     "text": [
      "0 là một số chính phương\n"
     ]
    }
   ],
   "source": [
    "# Bài 9\n",
    "from math import sqrt\n",
    "n = int(input())\n",
    "# if int(sqrt(n)) == sqrt(n):\n",
    "#     print(n, \"là một số chính phương\")\n",
    "# else:\n",
    "#     print(n, \"không phải một số chính phương\")\n",
    "flag = n==0 or n==1\n",
    "left = 1\n",
    "right = n//2+1\n",
    "while n>1:\n",
    "    n_sqrt = (left+right)//2\n",
    "    if n_sqrt**2 < n:\n",
    "        left = n_sqrt\n",
    "    elif n_sqrt**2 > n:\n",
    "        right = n_sqrt\n",
    "    else:\n",
    "        flag = True\n",
    "        break\n",
    "    if right-left<=1:\n",
    "        break\n",
    "if flag:\n",
    "    print(n, \"là một số chính phương\")\n",
    "else:\n",
    "    print(n, \"không phải một số chính phương\")"
   ]
  },
  {
   "cell_type": "code",
   "execution_count": 4,
   "id": "465448db-f355-48dd-8c25-05d118f70c9f",
   "metadata": {},
   "outputs": [
    {
     "name": "stdin",
     "output_type": "stream",
     "text": [
      " 28\n"
     ]
    },
    {
     "name": "stdout",
     "output_type": "stream",
     "text": [
      "True\n"
     ]
    }
   ],
   "source": [
    "# Bài 10\n",
    "a = int(input())\n",
    "divisor_sum = 0\n",
    "for i in range(1,a):\n",
    "    if a%i==0:\n",
    "        divisor_sum += i\n",
    "print(divisor_sum == a)"
   ]
  },
  {
   "cell_type": "code",
   "execution_count": 5,
   "id": "a1bb866d-4302-4cf3-ba4a-c3bf08b7950f",
   "metadata": {},
   "outputs": [
    {
     "name": "stdin",
     "output_type": "stream",
     "text": [
      " -1\n",
      " -2\n",
      " -3\n",
      " 6\n"
     ]
    },
    {
     "name": "stdout",
     "output_type": "stream",
     "text": [
      "Bạn nhập đúng quy tắc\n"
     ]
    }
   ],
   "source": [
    "# Bài 11\n",
    "while True:\n",
    "    if int(input()) > 0:\n",
    "        print(\"Bạn nhập đúng quy tắc\")\n",
    "        break"
   ]
  },
  {
   "cell_type": "code",
   "execution_count": 13,
   "id": "e73d7513-bb42-4144-a499-aae25a2856df",
   "metadata": {},
   "outputs": [
    {
     "name": "stdin",
     "output_type": "stream",
     "text": [
      " 6\n"
     ]
    },
    {
     "name": "stdout",
     "output_type": "stream",
     "text": [
      "2\n"
     ]
    }
   ],
   "source": [
    "# Bài 12\n",
    "n = int(input())\n",
    "S, k = 0, 0\n",
    "while S+k+1<n:\n",
    "    S, k = S+k+1, k+1\n",
    "print(k)"
   ]
  },
  {
   "cell_type": "code",
   "execution_count": 1,
   "id": "aab84bf1-a5bf-48c1-89dd-0ec24dfc9674",
   "metadata": {},
   "outputs": [
    {
     "name": "stdin",
     "output_type": "stream",
     "text": [
      " 3\n"
     ]
    },
    {
     "name": "stdout",
     "output_type": "stream",
     "text": [
      "11\n"
     ]
    }
   ],
   "source": [
    "# Bài 13\n",
    "A = int(input())\n",
    "S, n = 1, 1\n",
    "while S<=A:\n",
    "    S, n = S+1/(n+1), n+1\n",
    "print(n)"
   ]
  },
  {
   "cell_type": "code",
   "execution_count": 9,
   "id": "c809ab80-e4c4-4268-96b5-79fb28955284",
   "metadata": {},
   "outputs": [
    {
     "name": "stdin",
     "output_type": "stream",
     "text": [
      " 0\n",
      " 1\n",
      " 99\n",
      " -69\n",
      " 3\n",
      " -1\n"
     ]
    },
    {
     "name": "stdout",
     "output_type": "stream",
     "text": [
      "Nhỏ nhất là -69 và lớn nhất là 99\n"
     ]
    }
   ],
   "source": [
    "# Bài 14\n",
    "n_preceding = int(input())\n",
    "n_min = n_preceding\n",
    "n_max = n_preceding\n",
    "while n_preceding != -1:\n",
    "    n_new = int(input())\n",
    "    if n_new < n_min:\n",
    "        n_min = n_new\n",
    "    if n_new > n_max:\n",
    "        n_max = n_new\n",
    "    n_preceding = n_new\n",
    "print(\"Nhỏ nhất là\", n_min, \"và lớn nhất là\", n_max)"
   ]
  },
  {
   "cell_type": "code",
   "execution_count": 12,
   "id": "51d59ed4-17fd-4dc2-b461-b690d489f235",
   "metadata": {},
   "outputs": [
    {
     "name": "stdin",
     "output_type": "stream",
     "text": [
      " -19293\n"
     ]
    },
    {
     "name": "stdout",
     "output_type": "stream",
     "text": [
      "5\n"
     ]
    }
   ],
   "source": [
    "# Bài 15\n",
    "n = int(input())\n",
    "temp = abs(n)\n",
    "count = 1\n",
    "while temp//10 > 0:\n",
    "    count += 1\n",
    "    temp = temp//10\n",
    "print(count)"
   ]
  },
  {
   "cell_type": "code",
   "execution_count": 53,
   "id": "9f5bf13d-13c9-4f77-aaee-e1a8b73020cd",
   "metadata": {},
   "outputs": [
    {
     "name": "stdin",
     "output_type": "stream",
     "text": [
      " 12224\n"
     ]
    },
    {
     "name": "stdout",
     "output_type": "stream",
     "text": [
      "1 chữ số lẻ và 4 chữ số chẵn\n"
     ]
    }
   ],
   "source": [
    "# Bài 16\n",
    "n = int(input())\n",
    "temp = abs(n)\n",
    "count_odd = 0\n",
    "count_even = 0\n",
    "while True:\n",
    "    digit = temp%10\n",
    "    if digit%2==0:\n",
    "        count_even += 1\n",
    "    else:\n",
    "        count_odd += 1\n",
    "    temp = temp//10\n",
    "    if temp == 0:\n",
    "        break\n",
    "print(\"{0} chữ số lẻ và {1} chữ số chẵn\".format(count_odd, count_even))"
   ]
  },
  {
   "cell_type": "code",
   "execution_count": 41,
   "id": "57328a2a-c424-4af3-9efa-582ad1ed93ab",
   "metadata": {},
   "outputs": [
    {
     "name": "stdin",
     "output_type": "stream",
     "text": [
      " 102203333\n"
     ]
    },
    {
     "name": "stdout",
     "output_type": "stream",
     "text": [
      "17\n"
     ]
    }
   ],
   "source": [
    "# Bài 17\n",
    "n = int(input())\n",
    "temp = abs(n)\n",
    "sum_digit = 0\n",
    "while True:\n",
    "    sum_digit += temp%10\n",
    "    temp = temp//10\n",
    "    if temp == 0:\n",
    "        break\n",
    "print(sum_digit)"
   ]
  },
  {
   "cell_type": "code",
   "execution_count": 52,
   "id": "e6cd911f-19c2-4acb-adb7-ba03de97c74e",
   "metadata": {},
   "outputs": [
    {
     "name": "stdin",
     "output_type": "stream",
     "text": [
      " 81\n"
     ]
    },
    {
     "name": "stdout",
     "output_type": "stream",
     "text": [
      "True\n"
     ]
    }
   ],
   "source": [
    "# Bài 18\n",
    "n = int(input()) # n > 0\n",
    "temp = n\n",
    "flag = True\n",
    "while True:\n",
    "    if temp//3>0:\n",
    "        if temp%3==0:\n",
    "            temp = temp/3\n",
    "        else:\n",
    "            flag = False\n",
    "            break\n",
    "    else:\n",
    "        if temp == 1:\n",
    "            break\n",
    "        else: \n",
    "            flag = False\n",
    "            break\n",
    "print(flag)"
   ]
  },
  {
   "cell_type": "code",
   "execution_count": 36,
   "id": "b8662216-34f3-43ba-8370-d72097cb910b",
   "metadata": {},
   "outputs": [
    {
     "name": "stdin",
     "output_type": "stream",
     "text": [
      " 13\n"
     ]
    },
    {
     "name": "stdout",
     "output_type": "stream",
     "text": [
      "8\n"
     ]
    }
   ],
   "source": [
    "# Bài 19\n",
    "A = int(input())\n",
    "F, F_next = 1, 1\n",
    "while F+F_next<A:\n",
    "    F, F_next = F_next, F+F_next\n",
    "print(F_next)"
   ]
  },
  {
   "cell_type": "code",
   "execution_count": 46,
   "id": "20c619aa-a804-44dc-86fc-49656e878eef",
   "metadata": {},
   "outputs": [
    {
     "name": "stdin",
     "output_type": "stream",
     "text": [
      " 122223\n"
     ]
    },
    {
     "name": "stdout",
     "output_type": "stream",
     "text": [
      "5\n"
     ]
    }
   ],
   "source": [
    "# Bài 20\n",
    "from math import sqrt\n",
    "def isprime(n):\n",
    "    if n<2:\n",
    "        return False\n",
    "    else:\n",
    "        for i in range(2,int(sqrt(n))+1):\n",
    "            if n%i==0:\n",
    "                return False\n",
    "    return True\n",
    "\n",
    "n = int(input())\n",
    "temp = abs(n)\n",
    "count = 0\n",
    "while True:\n",
    "    digit = temp%10\n",
    "    if isprime(digit):\n",
    "        count += 1\n",
    "    temp = temp//10\n",
    "    if temp == 0:\n",
    "        break\n",
    "print(count)"
   ]
  }
 ],
 "metadata": {
  "kernelspec": {
   "display_name": "Python 3 (ipykernel)",
   "language": "python",
   "name": "python3"
  },
  "language_info": {
   "codemirror_mode": {
    "name": "ipython",
    "version": 3
   },
   "file_extension": ".py",
   "mimetype": "text/x-python",
   "name": "python",
   "nbconvert_exporter": "python",
   "pygments_lexer": "ipython3",
   "version": "3.13.7"
  }
 },
 "nbformat": 4,
 "nbformat_minor": 5
}
