{
 "cells": [
  {
   "cell_type": "code",
   "execution_count": 2,
   "id": "d62b0dd6-8367-4952-9f09-d6a68026e6de",
   "metadata": {},
   "outputs": [
    {
     "name": "stdin",
     "output_type": "stream",
     "text": [
      " 4\n"
     ]
    },
    {
     "name": "stdout",
     "output_type": "stream",
     "text": [
      "10\n"
     ]
    }
   ],
   "source": [
    "# W4A1\n",
    "n = int(input())\n",
    "sum = 0\n",
    "i = 1\n",
    "while i <= n:\n",
    "    sum += i\n",
    "    i += 1\n",
    "print(sum)"
   ]
  },
  {
   "cell_type": "code",
   "execution_count": 11,
   "id": "51e53438-af91-438a-87f3-9c9bd5550464",
   "metadata": {},
   "outputs": [
    {
     "name": "stdin",
     "output_type": "stream",
     "text": [
      " An\n"
     ]
    },
    {
     "name": "stdout",
     "output_type": "stream",
     "text": [
      "Again\n"
     ]
    },
    {
     "name": "stdin",
     "output_type": "stream",
     "text": [
      " bach0\n"
     ]
    },
    {
     "name": "stdout",
     "output_type": "stream",
     "text": [
      "Again\n"
     ]
    },
    {
     "name": "stdin",
     "output_type": "stream",
     "text": [
      " -3\n"
     ]
    },
    {
     "name": "stdout",
     "output_type": "stream",
     "text": [
      "Again\n"
     ]
    },
    {
     "name": "stdin",
     "output_type": "stream",
     "text": [
      " 4\n"
     ]
    },
    {
     "name": "stdout",
     "output_type": "stream",
     "text": [
      "A positive non-prime integer\n"
     ]
    }
   ],
   "source": [
    "# W4A2\n",
    "from math import sqrt\n",
    "def isprime(n):\n",
    "    if n<2:\n",
    "        return False\n",
    "    for d in range(2,int(sqrt(n))+1):\n",
    "        if n%d==0:\n",
    "            return False\n",
    "    return True\n",
    "\n",
    "while True:\n",
    "    try:\n",
    "        n = int(input())\n",
    "        if n > 0:\n",
    "            if isprime(n):\n",
    "                print(\"A prime number!\")\n",
    "            else:\n",
    "                print(\"A positive non-prime integer\")\n",
    "            break\n",
    "        else:\n",
    "            print(\"Again\")\n",
    "    except:\n",
    "        print(\"Again\")"
   ]
  },
  {
   "cell_type": "code",
   "execution_count": 13,
   "id": "6babe306-9997-4de6-bbfe-1db9972891ef",
   "metadata": {},
   "outputs": [
    {
     "name": "stdin",
     "output_type": "stream",
     "text": [
      " 3\n"
     ]
    },
    {
     "name": "stdout",
     "output_type": "stream",
     "text": [
      "6\n"
     ]
    }
   ],
   "source": [
    "# W4A3\n",
    "n = int(input())\n",
    "factorial = 1\n",
    "for i in range(2, n+1):\n",
    "    factorial *= i\n",
    "print(factorial)"
   ]
  },
  {
   "cell_type": "code",
   "execution_count": 22,
   "id": "98265e48-cb70-480a-a246-7c3b9a2e3ebd",
   "metadata": {},
   "outputs": [
    {
     "name": "stdin",
     "output_type": "stream",
     "text": [
      " -1\n"
     ]
    },
    {
     "name": "stdout",
     "output_type": "stream",
     "text": [
      "1\n"
     ]
    }
   ],
   "source": [
    "# W4A4\n",
    "n = int(input())\n",
    "n_copy = abs(n)\n",
    "count = 1\n",
    "while not n_copy//10 == 0:\n",
    "    count += 1\n",
    "    n_copy = n_copy//10\n",
    "print(count)"
   ]
  },
  {
   "cell_type": "code",
   "execution_count": 54,
   "id": "ce5f9e04-3177-4083-8779-2d37b9bb9c53",
   "metadata": {},
   "outputs": [
    {
     "name": "stdin",
     "output_type": "stream",
     "text": [
      " 1 2 3 4 5 6 7 8 9\n"
     ]
    },
    {
     "name": "stdout",
     "output_type": "stream",
     "text": [
      "It's a joke!\n"
     ]
    }
   ],
   "source": [
    "# W4A5 \n",
    "seq = input().split()\n",
    "if \"42\" in seq:\n",
    "    print(\"I've found the meaning of life!\")\n",
    "else:\n",
    "    print(\"It's a joke!\")"
   ]
  },
  {
   "cell_type": "code",
   "execution_count": 12,
   "id": "3aa41c11-0e11-4ce1-8750-2eb25f44b7ce",
   "metadata": {},
   "outputs": [
    {
     "name": "stdin",
     "output_type": "stream",
     "text": [
      " 1 5\n"
     ]
    },
    {
     "name": "stdout",
     "output_type": "stream",
     "text": [
      "10\n"
     ]
    }
   ],
   "source": [
    "# W4A6\n",
    "from math import sqrt\n",
    "def isprime(n):\n",
    "    if n<2:\n",
    "        return False\n",
    "    for d in range(2, int(sqrt(n))+1):\n",
    "        if n%d==0:\n",
    "            return False\n",
    "    return True\n",
    "\n",
    "a, b = map(int, input().split())\n",
    "sum = 0\n",
    "for i in range(a,b+1):\n",
    "    sum += int(isprime(i))*i\n",
    "print(sum)"
   ]
  },
  {
   "cell_type": "code",
   "execution_count": 16,
   "id": "b55d87e4-64ec-4ef0-86de-bb749ab790b8",
   "metadata": {},
   "outputs": [
    {
     "name": "stdin",
     "output_type": "stream",
     "text": [
      " 21\n"
     ]
    },
    {
     "name": "stdout",
     "output_type": "stream",
     "text": [
      "7\n"
     ]
    }
   ],
   "source": [
    "# W4A7\n",
    "from math import sqrt\n",
    "def isprime(n):\n",
    "    if n<2:\n",
    "        return False\n",
    "    for d in range(2, int(sqrt(n))+1):\n",
    "        if n%d==0:\n",
    "            return False\n",
    "    return True\n",
    "    \n",
    "n = int(input())\n",
    "for d in range(n,1,-1):\n",
    "    if n%d==0 and isprime(d):\n",
    "        print(d)\n",
    "        break\n",
    "    "
   ]
  },
  {
   "cell_type": "code",
   "execution_count": 1,
   "id": "fdd092d5-b248-4604-ba05-0ca4e7eec9b6",
   "metadata": {},
   "outputs": [
    {
     "name": "stdin",
     "output_type": "stream",
     "text": [
      " 3221\n"
     ]
    },
    {
     "name": "stdout",
     "output_type": "stream",
     "text": [
      "1 4444\n"
     ]
    }
   ],
   "source": [
    "# W4A8\n",
    "def ispalindrome(n):\n",
    "    s = str(n)\n",
    "    return s == s[::-1]\n",
    "\n",
    "def reverse(n):\n",
    "    s = str(n)\n",
    "    s = s[::-1]\n",
    "    return int(s)\n",
    "\n",
    "n = int(input())\n",
    "count = 0\n",
    "while True:\n",
    "    n += reverse(n)\n",
    "    count += 1\n",
    "    if ispalindrome(n):\n",
    "        break\n",
    "print(count, n)"
   ]
  },
  {
   "cell_type": "code",
   "execution_count": 12,
   "id": "4c058b00-bc9c-4cb0-ac05-af2cdd37fd61",
   "metadata": {},
   "outputs": [
    {
     "name": "stdin",
     "output_type": "stream",
     "text": [
      " 200\n"
     ]
    },
    {
     "name": "stdout",
     "output_type": "stream",
     "text": [
      "0 1 4 9 16 25 36 49 64 81 169 196 "
     ]
    }
   ],
   "source": [
    "# W4A9\n",
    "from math import sqrt\n",
    "def isperfectsquare(n):\n",
    "    return int(sqrt(n))**2 == n # int(sqrt(n)) == sqrt(n) (compare integer to float) is still OK \n",
    "def isdistinctdigits(n):\n",
    "    return len(str(n)) == len(set(str(n)))\n",
    "n = int(input())\n",
    "for i in range(0,n+1):\n",
    "    if isperfectsquare(i) and isdistinctdigits(i):\n",
    "        print(i, end=\" \")"
   ]
  },
  {
   "cell_type": "code",
   "execution_count": 6,
   "id": "4c096afa-4f15-4c1e-b531-80f3f80f836c",
   "metadata": {},
   "outputs": [
    {
     "name": "stdin",
     "output_type": "stream",
     "text": [
      " 13\n"
     ]
    },
    {
     "name": "stdout",
     "output_type": "stream",
     "text": [
      "9 19\n"
     ]
    }
   ],
   "source": [
    "# W4A10\n",
    "def collatzlength(x):\n",
    "    count = 0\n",
    "    while x>1:\n",
    "        count += 1\n",
    "        if x%2==0:\n",
    "            x=x/2\n",
    "        else:\n",
    "            x=3*x+1\n",
    "    return count\n",
    "n = int(input())\n",
    "x, L = 1, collatzlength(1)\n",
    "for i in range(2,n+1):\n",
    "    if L < collatzlength(i):\n",
    "        x, L = i, collatzlength(i)\n",
    "print(x, L)"
   ]
  },
  {
   "cell_type": "code",
   "execution_count": 16,
   "id": "e11ffeff-1105-4eb1-999c-15bbe0f6186a",
   "metadata": {},
   "outputs": [
    {
     "name": "stdin",
     "output_type": "stream",
     "text": [
      " 2\n"
     ]
    },
    {
     "name": "stdout",
     "output_type": "stream",
     "text": [
      "1\n"
     ]
    }
   ],
   "source": [
    "# W4A11\n",
    "n = int(input())\n",
    "count = 0\n",
    "for d in range(2,n+1):\n",
    "    if n%d==0 and d%2==0:\n",
    "        count += 1\n",
    "print(count)"
   ]
  },
  {
   "cell_type": "code",
   "execution_count": 21,
   "id": "10cfbcac-0789-4869-b364-860be0207c5e",
   "metadata": {},
   "outputs": [
    {
     "name": "stdin",
     "output_type": "stream",
     "text": [
      " 100 24\n"
     ]
    },
    {
     "name": "stdout",
     "output_type": "stream",
     "text": [
      "118\n"
     ]
    }
   ],
   "source": [
    "# W4A12\n",
    "x, n = map(int, input().split())\n",
    "balance = x\n",
    "for i in range(n):\n",
    "    balance = balance*1.007\n",
    "print(int(balance))\n"
   ]
  },
  {
   "cell_type": "code",
   "execution_count": 25,
   "id": "136f80a8-2cbb-4e7a-b4b7-8ca92c486085",
   "metadata": {},
   "outputs": [
    {
     "name": "stdin",
     "output_type": "stream",
     "text": [
      " 284 220\n"
     ]
    },
    {
     "name": "stdout",
     "output_type": "stream",
     "text": [
      "True\n"
     ]
    }
   ],
   "source": [
    "# W4A13\n",
    "def sum_divisors(n):\n",
    "    sum = 0\n",
    "    for d in range(1,n):\n",
    "        if n%d==0:\n",
    "            sum += d\n",
    "    return sum\n",
    "m, n = map(int, input().split())\n",
    "print(sum_divisors(m) == n and sum_divisors(n) == m)"
   ]
  },
  {
   "cell_type": "code",
   "execution_count": 31,
   "id": "b3fc496e-637b-4833-90b7-e09c268168a8",
   "metadata": {},
   "outputs": [
    {
     "name": "stdin",
     "output_type": "stream",
     "text": [
      " 16 3200000\n"
     ]
    },
    {
     "name": "stdout",
     "output_type": "stream",
     "text": [
      "16\n"
     ]
    }
   ],
   "source": [
    "# W4A14\n",
    "def gcd(m, n):\n",
    "    for d in range(min([m,n]),0,-1):\n",
    "        if m%d==0 and n%d==0:\n",
    "            return d\n",
    "\n",
    "m, n = map(int, input().split())\n",
    "print(gcd(m, n))"
   ]
  },
  {
   "cell_type": "code",
   "execution_count": 49,
   "id": "306c0889-e151-418e-a257-cffa270fcf26",
   "metadata": {},
   "outputs": [
    {
     "name": "stdin",
     "output_type": "stream",
     "text": [
      " 36 100\n"
     ]
    },
    {
     "name": "stdout",
     "output_type": "stream",
     "text": [
      "22 gà 14 chó\n"
     ]
    }
   ],
   "source": [
    "# W4A15\n",
    "def chickenanddog(m, n):\n",
    "    for i in range(m+1):\n",
    "        if 4*i+2*(m-i) == n:\n",
    "            return str(\"{0} gà {1} chó\".format(m-i, i))\n",
    "        elif 4*i+2*(m-i) > n or 4*(m-i)+2*i < n:\n",
    "            return \"invalid\"\n",
    "    return \"invalid\"\n",
    "    \n",
    "m, n = map(int, input().split())\n",
    "print(chickenanddog(m, n))"
   ]
  }
 ],
 "metadata": {
  "kernelspec": {
   "display_name": "Python 3 (ipykernel)",
   "language": "python",
   "name": "python3"
  },
  "language_info": {
   "codemirror_mode": {
    "name": "ipython",
    "version": 3
   },
   "file_extension": ".py",
   "mimetype": "text/x-python",
   "name": "python",
   "nbconvert_exporter": "python",
   "pygments_lexer": "ipython3",
   "version": "3.13.7"
  }
 },
 "nbformat": 4,
 "nbformat_minor": 5
}
