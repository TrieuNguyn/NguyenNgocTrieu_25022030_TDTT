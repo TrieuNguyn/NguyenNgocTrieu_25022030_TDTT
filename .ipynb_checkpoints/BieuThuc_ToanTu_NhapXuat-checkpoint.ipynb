{
 "cells": [
  {
   "cell_type": "code",
   "execution_count": 1,
   "id": "a72c1a92-3aa9-42a7-b703-efee6bf89aff",
   "metadata": {},
   "outputs": [
    {
     "name": "stdout",
     "output_type": "stream",
     "text": [
      "Hello World!\n"
     ]
    }
   ],
   "source": [
    "print(\"Hello World!\")"
   ]
  },
  {
   "cell_type": "code",
   "execution_count": 2,
   "id": "5dc7ebaa-7de2-47ab-831e-dd2adffc6de5",
   "metadata": {},
   "outputs": [
    {
     "name": "stdin",
     "output_type": "stream",
     "text": [
      "What is your name? Trieu\n"
     ]
    },
    {
     "name": "stdout",
     "output_type": "stream",
     "text": [
      "Hello, Trieu!\n"
     ]
    }
   ],
   "source": [
    "name = input(\"What is your name?\")\n",
    "print(f\"Hello, {name}!\")"
   ]
  },
  {
   "cell_type": "code",
   "execution_count": 8,
   "id": "b926e153-d99e-4d2d-9be0-7abe7aa24302",
   "metadata": {},
   "outputs": [
    {
     "name": "stdin",
     "output_type": "stream",
     "text": [
      " 3 4\n"
     ]
    },
    {
     "name": "stdout",
     "output_type": "stream",
     "text": [
      "7\n",
      "-1\n",
      "12\n",
      "0\n",
      "3\n",
      "0.75\n"
     ]
    }
   ],
   "source": [
    "a, b = map(int, input().split())\n",
    "print(a+b, a-b, a*b, a//b, a%b, f\"{a/b:.2f}\", sep=\"\\n\")"
   ]
  },
  {
   "cell_type": "code",
   "execution_count": 10,
   "id": "bf8637bc-0133-4b43-a339-cc3ca643b6ee",
   "metadata": {},
   "outputs": [
    {
     "name": "stdin",
     "output_type": "stream",
     "text": [
      " 9 8 10 9 8.5 9.5\n"
     ]
    },
    {
     "name": "stdout",
     "output_type": "stream",
     "text": [
      "9.1\n"
     ]
    }
   ],
   "source": [
    "a1, b1, c1, a2, b2, a3 = map(float, input().split())\n",
    "avg = ((a1+b1+c1)+(a2+b2)*2+a3*3)/10\n",
    "print(f\"{avg:.01f}\")"
   ]
  },
  {
   "cell_type": "code",
   "execution_count": 11,
   "id": "383a3614-6c56-46bc-beed-7a18feb0a07b",
   "metadata": {},
   "outputs": [
    {
     "name": "stdin",
     "output_type": "stream",
     "text": [
      " 3 4\n"
     ]
    },
    {
     "name": "stdout",
     "output_type": "stream",
     "text": [
      "81\n"
     ]
    }
   ],
   "source": [
    "a, b = map(int, input().split())\n",
    "print(a**b)"
   ]
  },
  {
   "cell_type": "code",
   "execution_count": 23,
   "id": "bc6f2344-91c2-46ce-95a1-147f0e9eea08",
   "metadata": {},
   "outputs": [
    {
     "name": "stdin",
     "output_type": "stream",
     "text": [
      " a\n"
     ]
    },
    {
     "name": "stdout",
     "output_type": "stream",
     "text": [
      "97 A\n"
     ]
    }
   ],
   "source": [
    "char = input()\n",
    "order = ord(char)\n",
    "print(order, chr(order-32))"
   ]
  },
  {
   "cell_type": "code",
   "execution_count": 24,
   "id": "d1d191da-4e22-4fdb-96ea-a4a5392d57dc",
   "metadata": {},
   "outputs": [
    {
     "name": "stdout",
     "output_type": "stream",
     "text": [
      "512 512\n"
     ]
    }
   ],
   "source": [
    "A = ((13**2)*3)+5\n",
    "B = 13**2*3+5\n",
    "print(A, B)"
   ]
  },
  {
   "cell_type": "code",
   "execution_count": 32,
   "id": "f7c9e9c9-500c-44ff-b2c7-587df663ea58",
   "metadata": {},
   "outputs": [
    {
     "name": "stdin",
     "output_type": "stream",
     "text": [
      " 33\n"
     ]
    },
    {
     "name": "stdout",
     "output_type": "stream",
     "text": [
      "91.4\n"
     ]
    }
   ],
   "source": [
    "c = float(input())\n",
    "f = 9/5*c+32\n",
    "print(round(f, 2))"
   ]
  },
  {
   "cell_type": "code",
   "execution_count": 31,
   "id": "c0dbe2cf-d885-4c77-b388-f977e39ea3cf",
   "metadata": {},
   "outputs": [
    {
     "name": "stdin",
     "output_type": "stream",
     "text": [
      " 123\n"
     ]
    },
    {
     "name": "stdout",
     "output_type": "stream",
     "text": [
      "182.2\n"
     ]
    }
   ],
   "source": [
    "x = float(input())\n",
    "total_cost = x+10+0.3*x+0.1*x\n",
    "print(round(total_cost, 2))"
   ]
  },
  {
   "cell_type": "code",
   "execution_count": 34,
   "id": "e63e95d2-7634-4697-a692-d1136480a657",
   "metadata": {},
   "outputs": [
    {
     "name": "stdin",
     "output_type": "stream",
     "text": [
      " Bob Alice Helen\n"
     ]
    },
    {
     "name": "stdout",
     "output_type": "stream",
     "text": [
      "Hi Helen, Alice, and Bob\n"
     ]
    }
   ],
   "source": [
    "name1, name2, name3 = input().split()\n",
    "print(f\"Hi {name3}, {name2}, and {name1}\")"
   ]
  },
  {
   "cell_type": "code",
   "execution_count": 35,
   "id": "0e3d823e-25c0-4180-8e71-4d781b865cae",
   "metadata": {},
   "outputs": [
    {
     "name": "stdin",
     "output_type": "stream",
     "text": [
      " 0 10\n"
     ]
    },
    {
     "name": "stdout",
     "output_type": "stream",
     "text": [
      "600\n"
     ]
    }
   ],
   "source": [
    "h, m = map(int, input().split())\n",
    "s = (60*h+m)*60\n",
    "print(s)"
   ]
  },
  {
   "cell_type": "code",
   "execution_count": 36,
   "id": "7f44dc14-98b0-4501-8788-17b81052a23a",
   "metadata": {},
   "outputs": [
    {
     "name": "stdin",
     "output_type": "stream",
     "text": [
      " 3\n"
     ]
    },
    {
     "name": "stdout",
     "output_type": "stream",
     "text": [
      "54\n"
     ]
    }
   ],
   "source": [
    "n = int(input())\n",
    "nstickers = 6*n*n\n",
    "print(nstickers)"
   ]
  },
  {
   "cell_type": "code",
   "execution_count": 37,
   "id": "7bbab49c-a3ba-45b3-a9e6-dec29372b051",
   "metadata": {},
   "outputs": [
    {
     "name": "stdin",
     "output_type": "stream",
     "text": [
      " 3 4\n"
     ]
    },
    {
     "name": "stdout",
     "output_type": "stream",
     "text": [
      "2\n"
     ]
    }
   ],
   "source": [
    "a, b = map(int, input().split())\n",
    "print(a*b%10)"
   ]
  },
  {
   "cell_type": "code",
   "execution_count": 40,
   "id": "2f3b4a63-0ce6-4aba-94cb-1fdad989da9b",
   "metadata": {},
   "outputs": [
    {
     "name": "stdin",
     "output_type": "stream",
     "text": [
      " 3 u\n"
     ]
    },
    {
     "name": "stdout",
     "output_type": "stream",
     "text": [
      "u 3\n"
     ]
    }
   ],
   "source": [
    "a, b = input().split()\n",
    "a, b = b, a\n",
    "print(a, b)"
   ]
  },
  {
   "cell_type": "code",
   "execution_count": 41,
   "id": "c284e405-e05a-4983-a358-fd437fb941ba",
   "metadata": {},
   "outputs": [
    {
     "name": "stdin",
     "output_type": "stream",
     "text": [
      " 3\n"
     ]
    },
    {
     "name": "stdout",
     "output_type": "stream",
     "text": [
      "19\n"
     ]
    }
   ],
   "source": [
    "n = int(input())\n",
    "print(3*n*(n-1)+1)"
   ]
  },
  {
   "cell_type": "code",
   "execution_count": 43,
   "id": "7e3eafe3-2b17-4853-b31f-b2bfb00c182b",
   "metadata": {},
   "outputs": [
    {
     "name": "stdout",
     "output_type": "stream",
     "text": [
      "Spring\n",
      "Summer\n",
      "Autumn\n",
      "Winter\n"
     ]
    }
   ],
   "source": [
    "print('''Spring\n",
    "Summer\n",
    "Autumn\n",
    "Winter''')\n"
   ]
  },
  {
   "cell_type": "code",
   "execution_count": 44,
   "id": "dccd1eb0-c696-4a48-917c-051ea1ddf417",
   "metadata": {},
   "outputs": [
    {
     "name": "stdout",
     "output_type": "stream",
     "text": [
      "  *  \n",
      " *** \n",
      "*****\n"
     ]
    }
   ],
   "source": [
    "print(\"  *  \")\n",
    "print(\" *** \")\n",
    "print(\"*****\")"
   ]
  },
  {
   "cell_type": "code",
   "execution_count": 1,
   "id": "8cbea8d8-4a77-42d3-ad61-b79655e97153",
   "metadata": {},
   "outputs": [
    {
     "name": "stdout",
     "output_type": "stream",
     "text": [
      "Monday\n",
      "Tuesday\n",
      "Wednesday\n",
      "Thursday\n",
      "Friday\n",
      "Saturday\n",
      "Sunday\n"
     ]
    }
   ],
   "source": [
    "print(\"Monday\\nTuesday\\nWednesday\\nThursday\\nFriday\\nSaturday\\nSunday\")"
   ]
  },
  {
   "cell_type": "code",
   "execution_count": 46,
   "id": "616e1715-5151-4b9e-867f-32e36e0cb957",
   "metadata": {},
   "outputs": [
    {
     "name": "stdout",
     "output_type": "stream",
     "text": [
      "January\n",
      "February\n",
      "March\n",
      "April\n",
      "May\n",
      "June\n",
      "July\n",
      "August\n",
      "September\n",
      "October\n",
      "November\n",
      "December\n"
     ]
    }
   ],
   "source": [
    "print('''January\n",
    "February\n",
    "March\n",
    "April\n",
    "May\n",
    "June\n",
    "July\n",
    "August\n",
    "September\n",
    "October\n",
    "November\n",
    "December''')"
   ]
  },
  {
   "cell_type": "code",
   "execution_count": 2,
   "id": "e820350c-aab9-418a-ba7c-467ca88acbfa",
   "metadata": {},
   "outputs": [
    {
     "name": "stdout",
     "output_type": "stream",
     "text": [
      "Hello, world\n",
      "Hello, world\n",
      "Hello, world\n",
      "Hello, world\n",
      "Hello, world\n",
      "Hello, world\n",
      "Hello, world\n",
      "Hello, world\n",
      "Hello, world\n",
      "Hello, world\n"
     ]
    }
   ],
   "source": [
    "print(\"Hello, world\\n\"*9+\"Hello, world\")"
   ]
  }
 ],
 "metadata": {
  "kernelspec": {
   "display_name": "Python 3 (ipykernel)",
   "language": "python",
   "name": "python3"
  },
  "language_info": {
   "codemirror_mode": {
    "name": "ipython",
    "version": 3
   },
   "file_extension": ".py",
   "mimetype": "text/x-python",
   "name": "python",
   "nbconvert_exporter": "python",
   "pygments_lexer": "ipython3",
   "version": "3.13.7"
  }
 },
 "nbformat": 4,
 "nbformat_minor": 5
}
