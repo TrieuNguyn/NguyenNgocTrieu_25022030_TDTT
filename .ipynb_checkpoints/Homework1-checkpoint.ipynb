{
 "cells": [
  {
   "cell_type": "code",
   "execution_count": 2,
   "id": "080b2f46-e81d-4914-a6a7-563bb84e52a2",
   "metadata": {},
   "outputs": [
    {
     "name": "stdin",
     "output_type": "stream",
     "text": [
      " 9\n"
     ]
    },
    {
     "name": "stdout",
     "output_type": "stream",
     "text": [
      "18\n"
     ]
    }
   ],
   "source": [
    "# Bai 1\n",
    "n = int(input())\n",
    "print(2*n)"
   ]
  },
  {
   "cell_type": "code",
   "execution_count": 11,
   "id": "b8484b85-4517-4de0-bc7e-0cc6975373ac",
   "metadata": {},
   "outputs": [
    {
     "name": "stdin",
     "output_type": "stream",
     "text": [
      " 7 3\n"
     ]
    },
    {
     "name": "stdout",
     "output_type": "stream",
     "text": [
      "13.934999999999999\n"
     ]
    }
   ],
   "source": [
    "# Bai 2\n",
    "a, b = map(int, input().split())\n",
    "print(a*b-3.14*(b/2)**2)"
   ]
  },
  {
   "cell_type": "code",
   "execution_count": 10,
   "id": "3cba11d6-5a05-4b05-b7b2-571d7a28fc0c",
   "metadata": {},
   "outputs": [
    {
     "name": "stdin",
     "output_type": "stream",
     "text": [
      " f\n"
     ]
    },
    {
     "name": "stdout",
     "output_type": "stream",
     "text": [
      "F\n"
     ]
    }
   ],
   "source": [
    "# Bai 3\n",
    "c = input()\n",
    "if c.isalpha():\n",
    "    if c.isupper():\n",
    "        print(c.lower())\n",
    "    else: \n",
    "        print(c.upper())\n",
    "else:\n",
    "    print(c, \"is not a letter in the alphabet\")"
   ]
  },
  {
   "cell_type": "code",
   "execution_count": 12,
   "id": "ff899c11-8069-4c5a-bbd9-eaf9b4499de7",
   "metadata": {},
   "outputs": [
    {
     "name": "stdin",
     "output_type": "stream",
     "text": [
      " 0\n"
     ]
    },
    {
     "name": "stdout",
     "output_type": "stream",
     "text": [
      "0 is not a letter in the alphabet\n"
     ]
    }
   ],
   "source": [
    "# Bai 4\n",
    "c = input()\n",
    "if c.isalpha():\n",
    "    print(c, \"is a letter in the alphabet\")\n",
    "else:\n",
    "    print(c, \"is not a letter in the alphabet\")"
   ]
  },
  {
   "cell_type": "code",
   "execution_count": 16,
   "id": "44834e25-3fee-464e-aa57-fd667735682b",
   "metadata": {},
   "outputs": [
    {
     "name": "stdin",
     "output_type": "stream",
     "text": [
      " U\n"
     ]
    },
    {
     "name": "stdout",
     "output_type": "stream",
     "text": [
      "t\n"
     ]
    }
   ],
   "source": [
    "# Bai 5\n",
    "c = input()\n",
    "if c == \"A\":\n",
    "    print(\"sybau\")\n",
    "else:\n",
    "    print(chr(ord(c.lower())-1))\n"
   ]
  },
  {
   "cell_type": "code",
   "execution_count": 30,
   "id": "8db0a864-5ad5-4faa-8dc2-77062c0f11b8",
   "metadata": {},
   "outputs": [
    {
     "name": "stdin",
     "output_type": "stream",
     "text": [
      " 3 4 5\n"
     ]
    },
    {
     "name": "stdout",
     "output_type": "stream",
     "text": [
      "6.0\n"
     ]
    }
   ],
   "source": [
    "# Bai 6\n",
    "from math import sqrt\n",
    "def heron(a, b, c):\n",
    "    p=(a+b+c)/2\n",
    "    s=sqrt(p*(p-a)*(p-b)*(p-c))\n",
    "    return s\n",
    "def istrianglevalid(a, b, c):\n",
    "    if abs(a-b)<c<a+b:\n",
    "        return True\n",
    "    else:\n",
    "        return False\n",
    "def main():\n",
    "    a, b, c = map(float, input().split())\n",
    "    if not istrianglevalid(a, b, c):\n",
    "        print(\"These side lengths are of an invalid triangle\")\n",
    "    else:\n",
    "        print(round(triangle_area(a,b,c),1))\n",
    "main()"
   ]
  },
  {
   "cell_type": "code",
   "execution_count": 29,
   "id": "eda744bd-ed37-41f4-b98b-b38afc252076",
   "metadata": {},
   "outputs": [
    {
     "name": "stdin",
     "output_type": "stream",
     "text": [
      " thanhtrunglamotthangngao\n"
     ]
    },
    {
     "name": "stdout",
     "output_type": "stream",
     "text": [
      "h l\n"
     ]
    }
   ],
   "source": [
    "# Bai 7\n",
    "string = input()\n",
    "print(string[4], string[10])"
   ]
  },
  {
   "cell_type": "code",
   "execution_count": 10,
   "id": "9a2bc34b-f11c-40b3-8c00-640ae561cf26",
   "metadata": {},
   "outputs": [
    {
     "name": "stdin",
     "output_type": "stream",
     "text": [
      "Ten chu ho:  Pham Van Toai\n",
      "Chi so thang truoc:  1020\n",
      "Chi so thang nay:  1070\n"
     ]
    },
    {
     "name": "stdout",
     "output_type": "stream",
     "text": [
      "Ho va ten: Pham Van Toai\n",
      "Tien phai tra la: 107136\n"
     ]
    }
   ],
   "source": [
    "# Bai 8\n",
    "name = input(\"Ten chu ho: \")\n",
    "index_0 = int(input(\"Chi so thang truoc: \"))\n",
    "index_1 = int(input(\"Chi so thang nay: \"))\n",
    "price = 0\n",
    "d = index_1 - index_0\n",
    "if d <= 50:\n",
    "    price = d*1984\n",
    "elif d <= 100:\n",
    "    price = d*2050\n",
    "elif d <= 200:\n",
    "    price = d*2380\n",
    "elif d <= 300:\n",
    "    price = d*2998\n",
    "elif d <= 400:\n",
    "    price = d*3350\n",
    "else:\n",
    "    price = d*3460\n",
    "price += price*0.08\n",
    "print(\"Ho va ten:\", name)\n",
    "print(\"Tien phai tra la:\", int(round(price)))"
   ]
  },
  {
   "cell_type": "code",
   "execution_count": null,
   "id": "ff70c4fd-86ac-4c70-9345-b91e96edcd97",
   "metadata": {},
   "outputs": [],
   "source": []
  }
 ],
 "metadata": {
  "kernelspec": {
   "display_name": "Python 3 (ipykernel)",
   "language": "python",
   "name": "python3"
  },
  "language_info": {
   "codemirror_mode": {
    "name": "ipython",
    "version": 3
   },
   "file_extension": ".py",
   "mimetype": "text/x-python",
   "name": "python",
   "nbconvert_exporter": "python",
   "pygments_lexer": "ipython3",
   "version": "3.13.7"
  }
 },
 "nbformat": 4,
 "nbformat_minor": 5
}
