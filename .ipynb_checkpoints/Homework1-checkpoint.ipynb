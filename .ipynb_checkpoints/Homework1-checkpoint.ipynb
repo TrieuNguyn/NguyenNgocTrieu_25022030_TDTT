{
 "cells": [
  {
   "cell_type": "code",
   "execution_count": 2,
   "id": "080b2f46-e81d-4914-a6a7-563bb84e52a2",
   "metadata": {},
   "outputs": [
    {
     "name": "stdin",
     "output_type": "stream",
     "text": [
      " 9\n"
     ]
    },
    {
     "name": "stdout",
     "output_type": "stream",
     "text": [
      "18\n"
     ]
    }
   ],
   "source": [
    "# Bai 1\n",
    "n = int(input())\n",
    "print(2*n)"
   ]
  },
  {
   "cell_type": "code",
   "execution_count": 11,
   "id": "b8484b85-4517-4de0-bc7e-0cc6975373ac",
   "metadata": {},
   "outputs": [
    {
     "name": "stdin",
     "output_type": "stream",
     "text": [
      " 7 3\n"
     ]
    },
    {
     "name": "stdout",
     "output_type": "stream",
     "text": [
      "13.934999999999999\n"
     ]
    }
   ],
   "source": [
    "# Bai 2\n",
    "a, b = map(int, input().split())\n",
    "print(a*b-3.14*(b/2)**2)"
   ]
  },
  {
   "cell_type": "code",
   "execution_count": 10,
   "id": "3cba11d6-5a05-4b05-b7b2-571d7a28fc0c",
   "metadata": {},
   "outputs": [
    {
     "name": "stdin",
     "output_type": "stream",
     "text": [
      " f\n"
     ]
    },
    {
     "name": "stdout",
     "output_type": "stream",
     "text": [
      "F\n"
     ]
    }
   ],
   "source": [
    "# Bai 3\n",
    "c = input()\n",
    "if c.isalpha():\n",
    "    if c.isupper():\n",
    "        print(c.lower())\n",
    "    else: \n",
    "        print(c.upper())\n",
    "else:\n",
    "    print(c, \"is not a letter in the alphabet\")"
   ]
  },
  {
   "cell_type": "code",
   "execution_count": 12,
   "id": "ff899c11-8069-4c5a-bbd9-eaf9b4499de7",
   "metadata": {},
   "outputs": [
    {
     "name": "stdin",
     "output_type": "stream",
     "text": [
      " 0\n"
     ]
    },
    {
     "name": "stdout",
     "output_type": "stream",
     "text": [
      "0 is not a letter in the alphabet\n"
     ]
    }
   ],
   "source": [
    "# Bai 4\n",
    "c = input()\n",
    "if c.isalpha():\n",
    "    print(c, \"is a letter in the alphabet\")\n",
    "else:\n",
    "    print(c, \"is not a letter in the alphabet\")"
   ]
  },
  {
   "cell_type": "code",
   "execution_count": 16,
   "id": "44834e25-3fee-464e-aa57-fd667735682b",
   "metadata": {},
   "outputs": [
    {
     "name": "stdin",
     "output_type": "stream",
     "text": [
      " U\n"
     ]
    },
    {
     "name": "stdout",
     "output_type": "stream",
     "text": [
      "t\n"
     ]
    }
   ],
   "source": [
    "# Bai 5\n",
    "c = input()\n",
    "if c == \"A\":\n",
    "    print(\"sybau\")\n",
    "else:\n",
    "    print(chr(ord(c.lower())-1))\n"
   ]
  },
  {
   "cell_type": "code",
   "execution_count": 30,
   "id": "8db0a864-5ad5-4faa-8dc2-77062c0f11b8",
   "metadata": {},
   "outputs": [
    {
     "name": "stdin",
     "output_type": "stream",
     "text": [
      " 3 4 5\n"
     ]
    },
    {
     "name": "stdout",
     "output_type": "stream",
     "text": [
      "6.0\n"
     ]
    }
   ],
   "source": [
    "# Bai 6\n",
    "from math import sqrt\n",
    "def heron(a, b, c):\n",
    "    p=(a+b+c)/2\n",
    "    s=sqrt(p*(p-a)*(p-b)*(p-c))\n",
    "    return s\n",
    "def istrianglevalid(a, b, c):\n",
    "    if abs(a-b)<c<a+b:\n",
    "        return True\n",
    "    else:\n",
    "        return False\n",
    "def main():\n",
    "    a, b, c = map(float, input().split())\n",
    "    if not istrianglevalid(a, b, c):\n",
    "        print(\"These side lengths are of an invalid triangle\")\n",
    "    else:\n",
    "        print(round(triangle_area(a,b,c),1))\n",
    "main()"
   ]
  },
  {
   "cell_type": "code",
   "execution_count": 29,
   "id": "eda744bd-ed37-41f4-b98b-b38afc252076",
   "metadata": {},
   "outputs": [
    {
     "name": "stdin",
     "output_type": "stream",
     "text": [
      " thanhtrunglamotthangngao\n"
     ]
    },
    {
     "name": "stdout",
     "output_type": "stream",
     "text": [
      "h l\n"
     ]
    }
   ],
   "source": [
    "# Bai 7\n",
    "string = input()\n",
    "print(string[4], string[10])"
   ]
  },
  {
   "cell_type": "code",
   "execution_count": 10,
   "id": "9a2bc34b-f11c-40b3-8c00-640ae561cf26",
   "metadata": {},
   "outputs": [
    {
     "name": "stdin",
     "output_type": "stream",
     "text": [
      "Ten chu ho:  Pham Van Toai\n",
      "Chi so thang truoc:  1020\n",
      "Chi so thang nay:  1070\n"
     ]
    },
    {
     "name": "stdout",
     "output_type": "stream",
     "text": [
      "Ho va ten: Pham Van Toai\n",
      "Tien phai tra la: 107136\n"
     ]
    }
   ],
   "source": [
    "# Bai 8\n",
    "name = input(\"Ten chu ho: \")\n",
    "index_0 = int(input(\"Chi so thang truoc: \"))\n",
    "index_1 = int(input(\"Chi so thang nay: \"))\n",
    "price = 0\n",
    "d = index_1 - index_0\n",
    "if d <= 50:\n",
    "    price = d*1984\n",
    "elif d <= 100:\n",
    "    price = d*2050\n",
    "elif d <= 200:\n",
    "    price = d*2380\n",
    "elif d <= 300:\n",
    "    price = d*2998\n",
    "elif d <= 400:\n",
    "    price = d*3350\n",
    "else:\n",
    "    price = d*3460\n",
    "price += price*0.08\n",
    "print(\"Ho va ten:\", name)\n",
    "print(\"Tien phai tra la:\", int(round(price)))"
   ]
  },
  {
   "cell_type": "code",
   "execution_count": 1,
   "id": "63f60a3d-6c0b-4638-a839-ae95e709ac3f",
   "metadata": {},
   "outputs": [
    {
     "name": "stdin",
     "output_type": "stream",
     "text": [
      " 2\n"
     ]
    },
    {
     "name": "stdout",
     "output_type": "stream",
     "text": [
      "even\n"
     ]
    }
   ],
   "source": [
    "n = int(input())\n",
    "if n%2==0:\n",
    "    print(\"even\")\n",
    "else:\n",
    "    print(\"odd\")"
   ]
  },
  {
   "cell_type": "code",
   "execution_count": 2,
   "id": "f41837b2-79ff-4cf2-bd4e-00322c754f5c",
   "metadata": {},
   "outputs": [
    {
     "name": "stdin",
     "output_type": "stream",
     "text": [
      " 195\n"
     ]
    },
    {
     "name": "stdout",
     "output_type": "stream",
     "text": [
      "yes\n"
     ]
    }
   ],
   "source": [
    "n = int(input())\n",
    "if n%10==5:\n",
    "    print(\"True\")\n",
    "else:\n",
    "    print(\"False\")"
   ]
  },
  {
   "cell_type": "code",
   "execution_count": 5,
   "id": "7f791bc6-036c-4161-bd45-7de1bf2c7b09",
   "metadata": {},
   "outputs": [
    {
     "name": "stdin",
     "output_type": "stream",
     "text": [
      " 50\n"
     ]
    },
    {
     "name": "stdout",
     "output_type": "stream",
     "text": [
      "False\n"
     ]
    }
   ],
   "source": [
    "n = int(input())\n",
    "if n%3==0 and n%5==0:\n",
    "    print(\"True\")\n",
    "else:\n",
    "    print(\"False\")"
   ]
  },
  {
   "cell_type": "code",
   "execution_count": 8,
   "id": "3aa5a76c-9033-47e6-8cd0-a39f31eca432",
   "metadata": {},
   "outputs": [
    {
     "name": "stdin",
     "output_type": "stream",
     "text": [
      " 17\n"
     ]
    },
    {
     "name": "stdout",
     "output_type": "stream",
     "text": [
      "False\n"
     ]
    }
   ],
   "source": [
    "age = int(input())\n",
    "if age >= 18:\n",
    "    print(\"legal\")\n",
    "else:\n",
    "    print(\"illegal\")"
   ]
  },
  {
   "cell_type": "code",
   "execution_count": 10,
   "id": "76b26b9c-bdb1-4b5a-afae-7d8fa921ff86",
   "metadata": {},
   "outputs": [
    {
     "name": "stdin",
     "output_type": "stream",
     "text": [
      " 7 99\n"
     ]
    },
    {
     "name": "stdout",
     "output_type": "stream",
     "text": [
      "99\n"
     ]
    }
   ],
   "source": [
    "a, b = map(int, input().split())\n",
    "if a > b:\n",
    "    print(a)\n",
    "elif a < b:\n",
    "    print(b)\n",
    "else:\n",
    "    print(\"=\")"
   ]
  },
  {
   "cell_type": "code",
   "execution_count": 11,
   "id": "0b80fb04-7d3a-40f2-bb16-c0fda1c95687",
   "metadata": {},
   "outputs": [
    {
     "name": "stdin",
     "output_type": "stream",
     "text": [
      " p\n"
     ]
    },
    {
     "name": "stdout",
     "output_type": "stream",
     "text": [
      "a letter\n"
     ]
    }
   ],
   "source": [
    "c = input()\n",
    "if c.isdigit():\n",
    "    print(\"a digit\")\n",
    "elif c.isalpha():\n",
    "    print(\"a letter\")"
   ]
  },
  {
   "cell_type": "code",
   "execution_count": 12,
   "id": "becf1791-4a8f-4abd-bda3-e9b746b14024",
   "metadata": {},
   "outputs": [
    {
     "name": "stdin",
     "output_type": "stream",
     "text": [
      " 9.69\n"
     ]
    },
    {
     "name": "stdout",
     "output_type": "stream",
     "text": [
      "Giỏi\n"
     ]
    }
   ],
   "source": [
    "grade = float(input())\n",
    "if grade >= 8.0:\n",
    "    print(\"Giỏi\")\n",
    "elif grade >= 6.5:\n",
    "    print(\"Khá\")\n",
    "elif grade >= 5:\n",
    "    print(\"Trung bình\")\n",
    "else: \n",
    "    print(\"Yếu\")"
   ]
  },
  {
   "cell_type": "code",
   "execution_count": 17,
   "id": "2d8cdfef-689d-4e33-a88c-0b11b0b8292e",
   "metadata": {},
   "outputs": [
    {
     "name": "stdin",
     "output_type": "stream",
     "text": [
      " 2024\n"
     ]
    },
    {
     "name": "stdout",
     "output_type": "stream",
     "text": [
      "2024 là năm nhuận\n"
     ]
    }
   ],
   "source": [
    "year = int(input())\n",
    "if (year%400==0) or (year%4==0 and year%100!=0):\n",
    "    print(year, \"là năm nhuận\")\n",
    "else:\n",
    "    print(year, \"không phải năm nhuận\")"
   ]
  },
  {
   "cell_type": "code",
   "execution_count": 18,
   "id": "0c6ee2fd-f831-452f-bb6d-595f2a4e0fa5",
   "metadata": {},
   "outputs": [
    {
     "name": "stdin",
     "output_type": "stream",
     "text": [
      " 8\n"
     ]
    },
    {
     "name": "stdout",
     "output_type": "stream",
     "text": [
      "Tám\n"
     ]
    }
   ],
   "source": [
    "n = int(input())\n",
    "match n:\n",
    "    case 0:\n",
    "        print(\"Không\")\n",
    "    case 1:\n",
    "        print(\"Một\")\n",
    "    case 2:\n",
    "        print(\"Hai\")\n",
    "    case 3:\n",
    "        print(\"Ba\")\n",
    "    case 4:\n",
    "        print(\"Bốn\")\n",
    "    case 5:\n",
    "        print(\"Năm\")\n",
    "    case 6:\n",
    "        print(\"Sáu\")\n",
    "    case 7:\n",
    "        print(\"Bảy\")\n",
    "    case 8:\n",
    "        print(\"Tám\")\n",
    "    case 9:\n",
    "        print(\"Chín\")"
   ]
  },
  {
   "cell_type": "code",
   "execution_count": 19,
   "id": "fec05be4-71e2-4d78-8bd0-a62cb5772477",
   "metadata": {},
   "outputs": [
    {
     "name": "stdin",
     "output_type": "stream",
     "text": [
      " 3.9\n"
     ]
    },
    {
     "name": "stdout",
     "output_type": "stream",
     "text": [
      "Học lại\n"
     ]
    }
   ],
   "source": [
    "grade = float(input())\n",
    "if grade >= 4:\n",
    "    print(\"Qua môn\")\n",
    "else: \n",
    "    print(\"Học lại\")"
   ]
  },
  {
   "cell_type": "code",
   "execution_count": 20,
   "id": "54287ede-5b6b-4cae-9c7c-08ef7cf44e87",
   "metadata": {},
   "outputs": [
    {
     "name": "stdin",
     "output_type": "stream",
     "text": [
      " 2007\n"
     ]
    },
    {
     "name": "stdout",
     "output_type": "stream",
     "text": [
      "Đủ tuổi\n"
     ]
    }
   ],
   "source": [
    "birth_y = int(input())\n",
    "age = 2025 - birth_y\n",
    "if age < 18: \n",
    "    print(\"Chưa đủ tuổi\")\n",
    "else:\n",
    "    print(\"Đủ tuổi\")"
   ]
  }
 ],
 "metadata": {
  "kernelspec": {
   "display_name": "Python 3 (ipykernel)",
   "language": "python",
   "name": "python3"
  },
  "language_info": {
   "codemirror_mode": {
    "name": "ipython",
    "version": 3
   },
   "file_extension": ".py",
   "mimetype": "text/x-python",
   "name": "python",
   "nbconvert_exporter": "python",
   "pygments_lexer": "ipython3",
   "version": "3.13.7"
  }
 },
 "nbformat": 4,
 "nbformat_minor": 5
}
