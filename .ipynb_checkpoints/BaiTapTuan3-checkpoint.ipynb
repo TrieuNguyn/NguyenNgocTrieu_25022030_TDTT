{
 "cells": [
  {
   "cell_type": "code",
   "execution_count": 5,
   "id": "b153d59d-7ba2-4264-869a-b96a4006be03",
   "metadata": {},
   "outputs": [
    {
     "name": "stdout",
     "output_type": "stream",
     "text": [
      "a = 123 \n",
      "b = 240\n",
      "swapped!\n",
      "a = 240 \n",
      "b = 123\n"
     ]
    }
   ],
   "source": [
    "# W3A2\n",
    "a = 123\n",
    "b = 240\n",
    "print(\"a =\", a, \"\\nb =\", b)\n",
    "a = a^b # đánh dấu các bit khác nhau bởi 1\n",
    "b = a^b # phép toán XOR a^b khi này trùng hợp thay các bit khác nhau và giữ các bit giống nhau trên b, cho ta a ban đầu\n",
    "a = b^a # tương tự, a được gán cho b ban đầu\n",
    "print(\"swapped!\")\n",
    "print(\"a =\", a, \"\\nb =\", b)"
   ]
  },
  {
   "cell_type": "code",
   "execution_count": 3,
   "id": "c32b1c43-660a-4ba9-aae4-650ee3f8ebff",
   "metadata": {},
   "outputs": [
    {
     "name": "stdin",
     "output_type": "stream",
     "text": [
      " 32\n"
     ]
    },
    {
     "name": "stdout",
     "output_type": "stream",
     "text": [
      "32 là luỹ thừa của 2\n"
     ]
    }
   ],
   "source": [
    "# W3A3\n",
    "n = int(input())\n",
    "if n&(n-1)==0:\n",
    "    print(n, \"là luỹ thừa của 2\")\n",
    "else:\n",
    "    print(n, \"không là luỹ thừa của 2\")"
   ]
  },
  {
   "cell_type": "code",
   "execution_count": 21,
   "id": "b3621d1e-8ca0-4e02-9be9-08e828491881",
   "metadata": {},
   "outputs": [
    {
     "name": "stdin",
     "output_type": "stream",
     "text": [
      " 5 10\n"
     ]
    },
    {
     "name": "stdout",
     "output_type": "stream",
     "text": [
      "0\n"
     ]
    }
   ],
   "source": [
    "# W3A4\n",
    "m, n = map(int, input().split())\n",
    "print(m//n)"
   ]
  },
  {
   "cell_type": "code",
   "execution_count": 20,
   "id": "20e3d92f-4304-4d97-8606-ea65335f2520",
   "metadata": {},
   "outputs": [
    {
     "name": "stdin",
     "output_type": "stream",
     "text": [
      " 6 6\n"
     ]
    },
    {
     "name": "stdout",
     "output_type": "stream",
     "text": [
      "1\n"
     ]
    }
   ],
   "source": [
    "# W3A5\n",
    "m, n = map(int, input().split())\n",
    "if m%n==0:\n",
    "    print(m//n)\n",
    "else:\n",
    "    print(int(m//n)+1)"
   ]
  },
  {
   "cell_type": "code",
   "execution_count": 23,
   "id": "a0b04e3c-0d06-4ae5-9f86-fa83d47975f8",
   "metadata": {},
   "outputs": [
    {
     "name": "stdin",
     "output_type": "stream",
     "text": [
      " 123\n"
     ]
    },
    {
     "name": "stdout",
     "output_type": "stream",
     "text": [
      "Odd\n"
     ]
    }
   ],
   "source": [
    "# W3A6\n",
    "n = int(input())\n",
    "if n%2==0:\n",
    "    print(\"Even\")\n",
    "else: \n",
    "    print(\"Odd\")"
   ]
  },
  {
   "cell_type": "code",
   "execution_count": 25,
   "id": "44d883ea-ad19-4acc-8c79-74bbf91496d7",
   "metadata": {},
   "outputs": [
    {
     "name": "stdin",
     "output_type": "stream",
     "text": [
      " -1 0\n"
     ]
    },
    {
     "name": "stdout",
     "output_type": "stream",
     "text": [
      "No\n"
     ]
    }
   ],
   "source": [
    "# W3A7\n",
    "a, b = map(int, input().split())\n",
    "if a < 0 and b < 0:\n",
    "    print(\"Yes\")\n",
    "else:\n",
    "    print(\"No\")"
   ]
  },
  {
   "cell_type": "code",
   "execution_count": 27,
   "id": "7a4ef428-4d25-4bee-80ae-96317e4ef6b2",
   "metadata": {},
   "outputs": [
    {
     "name": "stdin",
     "output_type": "stream",
     "text": [
      " uia trungngao\n"
     ]
    },
    {
     "name": "stdout",
     "output_type": "stream",
     "text": [
      "False\n"
     ]
    }
   ],
   "source": [
    "# W3A8\n",
    "a, b = input().split()\n",
    "print(len(a)>len(b))"
   ]
  },
  {
   "cell_type": "code",
   "execution_count": 35,
   "id": "03ffec85-3c83-4f4b-b587-2c6133062157",
   "metadata": {},
   "outputs": [
    {
     "name": "stdin",
     "output_type": "stream",
     "text": [
      " 1 3 4\n"
     ]
    },
    {
     "name": "stdout",
     "output_type": "stream",
     "text": [
      "No\n"
     ]
    }
   ],
   "source": [
    "# W3A9\n",
    "a, b, c = map(int, input().split())\n",
    "if abs(a-b)<c and c<a+b: # abs(a-b)<c<a+b still works\n",
    "    print(\"Yes\")\n",
    "else:\n",
    "    print(\"No\")"
   ]
  },
  {
   "cell_type": "code",
   "execution_count": 34,
   "id": "c53347e0-492a-4a49-a29a-4b2180ad0c2e",
   "metadata": {},
   "outputs": [
    {
     "name": "stdin",
     "output_type": "stream",
     "text": [
      " 9 3 9 6\n"
     ]
    },
    {
     "name": "stdout",
     "output_type": "stream",
     "text": [
      "9\n"
     ]
    }
   ],
   "source": [
    "# W3A10\n",
    "l = list(map(int, input().split()))\n",
    "l_max = l[0]\n",
    "for i in range(1, len(l)):\n",
    "    if l_max < l[i]:\n",
    "        l_max = l[i]\n",
    "print(l_max)"
   ]
  },
  {
   "cell_type": "code",
   "execution_count": 51,
   "id": "336e6f04-ea22-4950-89bb-5bd2233ff1ad",
   "metadata": {},
   "outputs": [
    {
     "name": "stdin",
     "output_type": "stream",
     "text": [
      " 3 3 4\n"
     ]
    },
    {
     "name": "stdout",
     "output_type": "stream",
     "text": [
      "Tam giác cân\n"
     ]
    }
   ],
   "source": [
    "# W3A11\n",
    "def isvalid(a, b, c):\n",
    "    return abs(a-b)<c and c<a+b\n",
    "def isisoceles(a, b, c):\n",
    "    return a==b or b==c or c==a\n",
    "def isequilateral(a, b, c):\n",
    "    return a==b and b==c\n",
    "def main():\n",
    "    a, b, c = map(int, input().split())\n",
    "    if isvalid(a, b, c):\n",
    "        if isequilateral(a, b, c):\n",
    "            print(\"Tam giác đều\")\n",
    "        elif isisoceles(a, b, c):\n",
    "            print(\"Tam giác cân\")\n",
    "        else:\n",
    "            print(\"Tam giác thường\")\n",
    "    else:\n",
    "        print(\"Không phải tam giác\")\n",
    "main()"
   ]
  },
  {
   "cell_type": "code",
   "execution_count": 52,
   "id": "8374ebc6-28b8-40c4-8ad9-93a52874d5d9",
   "metadata": {},
   "outputs": [
    {
     "name": "stdin",
     "output_type": "stream",
     "text": [
      " 2024\n"
     ]
    },
    {
     "name": "stdout",
     "output_type": "stream",
     "text": [
      "Yes\n"
     ]
    }
   ],
   "source": [
    "# W3A12\n",
    "y = int(input())\n",
    "if (y%4==0 and y%100!=0) or (y%400==0):\n",
    "    print(\"Yes\")\n",
    "else:\n",
    "    print(\"No\")"
   ]
  },
  {
   "cell_type": "code",
   "execution_count": 55,
   "id": "78ed6c5e-1fad-4b88-9f0c-8370647fa469",
   "metadata": {},
   "outputs": [
    {
     "name": "stdin",
     "output_type": "stream",
     "text": [
      " 0 3\n"
     ]
    },
    {
     "name": "stdout",
     "output_type": "stream",
     "text": [
      "Vô nghiệm\n"
     ]
    }
   ],
   "source": [
    "# W3A14\n",
    "a, b = map(float, input().split())\n",
    "if a!=0:\n",
    "    print(round(-b/a, 2))\n",
    "elif b==0:\n",
    "    print(\"Vô số nghiệm\")\n",
    "else:\n",
    "    print(\"Vô nghiệm\")"
   ]
  },
  {
   "cell_type": "code",
   "execution_count": 56,
   "id": "782d894c-f516-4eb9-bd37-ac5d11040bb9",
   "metadata": {},
   "outputs": [
    {
     "name": "stdin",
     "output_type": "stream",
     "text": [
      " 5\n"
     ]
    },
    {
     "name": "stdout",
     "output_type": "stream",
     "text": [
      "Trung bình\n"
     ]
    }
   ],
   "source": [
    "# W3A15\n",
    "grade = float(input())\n",
    "if grade >= 8.0:\n",
    "    print(\"Giỏi\")\n",
    "elif grade >= 6.5:\n",
    "    print(\"Khá\")\n",
    "elif grade >= 5:\n",
    "    print(\"Trung bình\")\n",
    "else: \n",
    "    print(\"Yếu\")"
   ]
  },
  {
   "cell_type": "code",
   "execution_count": 64,
   "id": "c589942d-a375-4de9-9312-a3fb9e783f86",
   "metadata": {},
   "outputs": [
    {
     "name": "stdin",
     "output_type": "stream",
     "text": [
      " 3.6\n"
     ]
    },
    {
     "name": "stdout",
     "output_type": "stream",
     "text": [
      "3 4\n"
     ]
    }
   ],
   "source": [
    "# W3A16\n",
    "from math import isclose\n",
    "n = float(input())\n",
    "n_whole = int(n)\n",
    "if isclose(n_whole, n):\n",
    "    print(n_whole, n_whole)\n",
    "else:\n",
    "    print(n_whole, n_whole+1)"
   ]
  },
  {
   "cell_type": "code",
   "execution_count": 67,
   "id": "049f0edc-9bf2-4760-81e9-05ffb1ede368",
   "metadata": {},
   "outputs": [
    {
     "name": "stdin",
     "output_type": "stream",
     "text": [
      " 1 1 1 1\n"
     ]
    },
    {
     "name": "stdout",
     "output_type": "stream",
     "text": [
      "1 1 1 1 là cấp số nhân với công bội nguyên 1\n"
     ]
    }
   ],
   "source": [
    "# W3A17\n",
    "from math import isclose\n",
    "a, b, c, d = map(int, input().split())\n",
    "if b%a==0:\n",
    "    q = b//a\n",
    "    if b*q==c and c*q==d:\n",
    "        print(a, b, c, d, \"là cấp số nhân với công bội nguyên\", q)\n",
    "else:\n",
    "    print(a, b, c, d, \"không là cấp số nhân với công bội nguyên\")\n"
   ]
  }
 ],
 "metadata": {
  "kernelspec": {
   "display_name": "Python 3 (ipykernel)",
   "language": "python",
   "name": "python3"
  },
  "language_info": {
   "codemirror_mode": {
    "name": "ipython",
    "version": 3
   },
   "file_extension": ".py",
   "mimetype": "text/x-python",
   "name": "python",
   "nbconvert_exporter": "python",
   "pygments_lexer": "ipython3",
   "version": "3.13.7"
  }
 },
 "nbformat": 4,
 "nbformat_minor": 5
}
