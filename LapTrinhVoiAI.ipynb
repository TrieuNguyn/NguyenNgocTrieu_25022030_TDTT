{
 "cells": [
  {
   "cell_type": "code",
   "execution_count": 1,
   "id": "0110010b-c1f3-4a2d-8a65-49ca43cb03fd",
   "metadata": {},
   "outputs": [
    {
     "name": "stdout",
     "output_type": "stream",
     "text": [
      "2\n"
     ]
    }
   ],
   "source": [
    "a = 7          # Assign value 7 to variable a\n",
    "b = 5          # Assign value 5 to variable b\n",
    "c = a - b      # Subtract b from a (7 - 5 = 2), assign result to c\n",
    "print(c)       # Print value of c (output: 2)"
   ]
  },
  {
   "cell_type": "code",
   "execution_count": 2,
   "id": "c659d3ab-239d-447f-889b-83799ea8e4cd",
   "metadata": {},
   "outputs": [
    {
     "name": "stdout",
     "output_type": "stream",
     "text": [
      "Thành phố:  Hà Nội  - Năm:  2025\n"
     ]
    }
   ],
   "source": [
    "city = \"Hà Nội\"         # Assign the string \"Hà Nội\" to variable city\n",
    "year = 2025             # Assign the integer 2025 to variable year\n",
    "print(\"Thành phố: \", city, \" - Năm: \", year)  \n",
    "# Print the string \"Thành phố: \", then city, then \" - Năm: \", then year\n",
    "# Output: Thành phố:  Hà Nội  - Năm:  2025"
   ]
  },
  {
   "cell_type": "code",
   "execution_count": 3,
   "id": "9617ec5d-b3a4-4ca5-b96e-280964b94903",
   "metadata": {},
   "outputs": [
    {
     "name": "stdout",
     "output_type": "stream",
     "text": [
      "10\n"
     ]
    }
   ],
   "source": [
    "n = 4            # Assign value 4 to n\n",
    "t = 0            # Initialize variable t with 0\n",
    "for i in range(1, n+1):    # Loop i from 1 to 4 (inclusive)\n",
    "    t += i        # Add current i to t (accumulate sum)\n",
    "print(t)          # After loop ends, print total sum of 1+2+3+4 = 10"
   ]
  },
  {
   "cell_type": "code",
   "execution_count": 4,
   "id": "fbc9534f-3a57-40ae-b7f9-e8bf2dae63b3",
   "metadata": {},
   "outputs": [
    {
     "name": "stdout",
     "output_type": "stream",
     "text": [
      "1 là số lẻ\n",
      "2 là số chẵn\n",
      "3 là số lẻ\n",
      "4 là số chẵn\n"
     ]
    }
   ],
   "source": [
    "numbers = [1, 2, 3, 4]       # Define a list of numbers\n",
    "for x in numbers:            # Loop through each number in the list\n",
    "    if x % 2 == 0:           # Check if the number is even (remainder of x/2 = 0)\n",
    "        print(x, \"là số chẵn\")  # If even, print that x is even\n",
    "    else:\n",
    "        print(x, \"là số lẻ\")    # Otherwise, print that x is odd"
   ]
  },
  {
   "cell_type": "code",
   "execution_count": 5,
   "id": "ae9cbc64-f66f-42ff-a966-6635d1b70dae",
   "metadata": {},
   "outputs": [
    {
     "name": "stdout",
     "output_type": "stream",
     "text": [
      "Số phần tử trong danh sách là: 4\n"
     ]
    }
   ],
   "source": [
    "animals = [\"cat\", \"dog\", \"cat\", \"bird\"]  # Create a list with 4 items\n",
    "count = 0                               # Initialize counter to 0\n",
    "for a in animals:                       # Loop through each element in animals\n",
    "    count += 1                          # Add 1 for each element\n",
    "print(\"Số phần tử trong danh sách là:\", count)  # Print total count of items\n",
    "# Output: Số phần tử trong danh sách là: 4"
   ]
  },
  {
   "cell_type": "code",
   "execution_count": 6,
   "id": "4f8a2a33-e9d6-4529-94d0-8c7df3802d64",
   "metadata": {},
   "outputs": [
    {
     "name": "stdout",
     "output_type": "stream",
     "text": [
      "=== AI Prediction System ===\n",
      "1) Sentiment analysis\n",
      "2) Weather forecast\n",
      "3) Exit\n",
      "Please choose an option:\n"
     ]
    }
   ],
   "source": [
    "print(\"=== AI Prediction System ===\")  # Print header\n",
    "print(\"1) Sentiment analysis\")         # Print option 1\n",
    "print(\"2) Weather forecast\")           # Print option 2\n",
    "print(\"3) Exit\")                       # Print option 3\n",
    "print(\"Please choose an option:\")      # Ask user to choose option\n",
    "# This code just prints a menu, no input yet, so output is the menu lines above"
   ]
  },
  {
   "cell_type": "code",
   "execution_count": 7,
   "id": "b54a464a-8eca-4074-bacd-1897d19e1949",
   "metadata": {},
   "outputs": [
    {
     "name": "stdin",
     "output_type": "stream",
     "text": [
      "Nhập số:  6\n"
     ]
    },
    {
     "name": "stdout",
     "output_type": "stream",
     "text": [
      "Số chẵn\n"
     ]
    }
   ],
   "source": [
    "# num = input(\"Nhập số: \")     # Ask user to input a number (as a string)\n",
    "# if num % 2 == 0:             # ❌ Error here: num is string, cannot use % with int\n",
    "#     print(\"Số chẵn\")\n",
    "# else:\n",
    "#     print(\"Số lẻ\")\n",
    "num = int(input(\"Nhập số: \"))\n",
    "if num % 2 == 0:             \n",
    "    print(\"Số chẵn\")\n",
    "else:\n",
    "    print(\"Số lẻ\")"
   ]
  },
  {
   "cell_type": "code",
   "execution_count": 8,
   "id": "6197949f-3289-420f-8d33-fd88315fc480",
   "metadata": {},
   "outputs": [
    {
     "name": "stdout",
     "output_type": "stream",
     "text": [
      "AI đang học 1\n",
      "AI đang học 2\n",
      "AI đang học 3\n"
     ]
    }
   ],
   "source": [
    "for i in range(3):               # Loop i = 0,1,2\n",
    "    print(\"AI đang học\", i + 1)  # Print text and i+1\n",
    "# Output:\n",
    "# AI đang học 1\n",
    "# AI đang học 2\n",
    "# AI đang học 3"
   ]
  },
  {
   "cell_type": "code",
   "execution_count": 9,
   "id": "dcd0c0b6-0df4-4ee2-8bdb-052dd38afa55",
   "metadata": {},
   "outputs": [
    {
     "name": "stdout",
     "output_type": "stream",
     "text": [
      "cat\n",
      "dog\n",
      "fish\n"
     ]
    }
   ],
   "source": [
    "for x in [\"cat\", \"dog\", \"fish\"]:   # Loop through each string in list\n",
    "    print(x)                       # Print each string\n",
    "# Output:\n",
    "# cat\n",
    "# dog\n",
    "# fish"
   ]
  },
  {
   "cell_type": "code",
   "execution_count": 2,
   "id": "fa773b37-2309-4438-a4bb-6f20eff2e2e2",
   "metadata": {},
   "outputs": [
    {
     "name": "stdout",
     "output_type": "stream",
     "text": [
      "=== AI Prediction System ===\n",
      "1) Sentiment analysis\n",
      "2) Weather forecast\n",
      "3) Exit\n",
      "Please choose an option:\n"
     ]
    }
   ],
   "source": [
    "s = \"\"\"=== AI Prediction System ===\n",
    "1) Sentiment analysis\n",
    "2) Weather forecast\n",
    "3) Exit\n",
    "Please choose an option:\"\"\"\n",
    "print(s)   # Print multi-line string stored in s\n",
    "# Output:\n",
    "# === AI Prediction System ===\n",
    "# 1) Sentiment analysis\n",
    "# 2) Weather forecast\n",
    "# 3) Exit\n",
    "# Please choose an option:"
   ]
  }
 ],
 "metadata": {
  "kernelspec": {
   "display_name": "Python 3 (ipykernel)",
   "language": "python",
   "name": "python3"
  },
  "language_info": {
   "codemirror_mode": {
    "name": "ipython",
    "version": 3
   },
   "file_extension": ".py",
   "mimetype": "text/x-python",
   "name": "python",
   "nbconvert_exporter": "python",
   "pygments_lexer": "ipython3",
   "version": "3.13.7"
  }
 },
 "nbformat": 4,
 "nbformat_minor": 5
}
