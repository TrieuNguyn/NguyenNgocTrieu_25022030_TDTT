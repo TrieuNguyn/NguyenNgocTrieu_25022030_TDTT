{
 "cells": [
  {
   "cell_type": "code",
   "execution_count": 22,
   "id": "aa1bef12-1c02-4461-a944-4635429d21c7",
   "metadata": {},
   "outputs": [
    {
     "name": "stdin",
     "output_type": "stream",
     "text": [
      " 3 4\n"
     ]
    },
    {
     "name": "stdout",
     "output_type": "stream",
     "text": [
      "Diện tích: 12.0\n",
      "Chu vi: 14.0\n"
     ]
    }
   ],
   "source": [
    "l, w = map(float, input().split())\n",
    "print(f\"Diện tích: {l*w}\\nChu vi: {(l+w)*2}\")"
   ]
  },
  {
   "cell_type": "code",
   "execution_count": 23,
   "id": "9d3396d1-df99-4f51-b8c4-3a086ba021aa",
   "metadata": {},
   "outputs": [
    {
     "name": "stdin",
     "output_type": "stream",
     "text": [
      " 5\n"
     ]
    },
    {
     "name": "stdout",
     "output_type": "stream",
     "text": [
      "Diện tích: 78.54\n",
      "Chu vi: 31.42\n"
     ]
    }
   ],
   "source": [
    "from math import pi\n",
    "r = float(input())\n",
    "print(f\"Diện tích: {pi*r**2:.2f}\\nChu vi: {2*pi*r:.2f}\")"
   ]
  },
  {
   "cell_type": "code",
   "execution_count": 15,
   "id": "644948c6-a76f-40c7-a4eb-35a73fc43b36",
   "metadata": {},
   "outputs": [
    {
     "name": "stdin",
     "output_type": "stream",
     "text": [
      " 4 3 5\n"
     ]
    },
    {
     "name": "stdout",
     "output_type": "stream",
     "text": [
      "Tam giac vuong\n",
      "Dien tich:  6.0\n",
      "Chu vi:  12.0\n"
     ]
    }
   ],
   "source": [
    "from math import sqrt\n",
    "\n",
    "def isvalid(a, b, c):\n",
    "    if abs(a-b)<c<a+b:\n",
    "        return True\n",
    "    return False\n",
    "\n",
    "def isright(a, b, c):\n",
    "    if a**2+b**2==c**2 or b**2+c**2==a**2 or a**2+b**2==c**2:\n",
    "        return True\n",
    "    return False\n",
    "\n",
    "def isequilateral(a, b, c):\n",
    "    if a==b and b==c:\n",
    "        return True\n",
    "    return False\n",
    "\n",
    "def isisoleces(a, b, c):\n",
    "    if a==b or b==c or c==a:\n",
    "        return True\n",
    "    return False\n",
    "\n",
    "def perimeter(a, b, c):\n",
    "    return a+b+c\n",
    "\n",
    "def heron(a, b, c):\n",
    "    p = (a+b+c)/2\n",
    "    return sqrt(p*(p-a)*(p-b)*(p-c))\n",
    "\n",
    "def main():\n",
    "    a, b, c = map(float, input().split())\n",
    "    if isvalid(a, b, c):\n",
    "        print(\"Tam giac\", end=\" \")\n",
    "        if isright(a, b, c):\n",
    "            if isisoleces(a, b, c):\n",
    "                print(\"vuong can\")\n",
    "            else:\n",
    "                print(\"vuong\")\n",
    "        elif isisoleces(a, b, c): \n",
    "            if isequilateral(a, b, c):\n",
    "                print(\"deu\")\n",
    "            else: \n",
    "                print(\"can\")\n",
    "        else:\n",
    "            print(\"thuong\")\n",
    "        print(\"Dien tich: \", heron(a, b, c))\n",
    "        print(\"Chu vi: \", perimeter(a, b, c))\n",
    "    else:\n",
    "        print(\"Khong la ba canh cua mot tam giac\")\n",
    "\n",
    "main()\n"
   ]
  },
  {
   "cell_type": "code",
   "execution_count": 25,
   "id": "92f66332-727d-40cd-a246-89616a674bd6",
   "metadata": {},
   "outputs": [
    {
     "name": "stdin",
     "output_type": "stream",
     "text": [
      "Nhập các hệ số a và b cho phương trình ax+b=0 theo thứ tự đó:  4 12\n"
     ]
    },
    {
     "name": "stdout",
     "output_type": "stream",
     "text": [
      "Phương trình có nghiệm duy nhất x = -3.0\n"
     ]
    }
   ],
   "source": [
    "a, b = map(float, input(\"Nhập các hệ số a và b cho phương trình ax+b=0 theo thứ tự đó: \").split())\n",
    "if a!=0:\n",
    "    print(\"Phương trình có nghiệm duy nhất x =\", -b/a)\n",
    "elif b==0:\n",
    "    print(\"Phương trình có vô số nghiệm\")\n",
    "else:\n",
    "    print(\"Phương trình vô nghiệm\")"
   ]
  },
  {
   "cell_type": "code",
   "execution_count": 15,
   "id": "6a628c7d-3c2b-4dd0-b8a1-c0ca4dddb87b",
   "metadata": {},
   "outputs": [
    {
     "name": "stdin",
     "output_type": "stream",
     "text": [
      "Nhập các hệ số a, b, c cho phương trình ax^2+bx+c=0 theo thứ tự đó:  1 2 1\n"
     ]
    },
    {
     "name": "stdout",
     "output_type": "stream",
     "text": [
      "Phương trình có nghiệm kép x = -1.0\n"
     ]
    }
   ],
   "source": [
    "from math import sqrt\n",
    "a, b, c = map(float, input(\"Nhập các hệ số a, b, c cho phương trình ax^2+bx+c=0 theo thứ tự đó: \").split())\n",
    "det = b**2-4*a*c\n",
    "if det > 0:\n",
    "    print(f\"Phương trình có hai nghiệm phân biệt x_1 = {(-b+sqrt(determinant))/(2*a)} và x_2 = {(-b-sqrt(determinant))/(2*a)}\")\n",
    "elif det == 0:\n",
    "    print(f\"Phương trình có nghiệm kép x = {-b/(2*a)}\")\n",
    "else:\n",
    "    print(\"Phương trình vô nghiệm\")\n",
    "    "
   ]
  },
  {
   "cell_type": "code",
   "execution_count": 34,
   "id": "5d0853c2-5d72-407d-b2eb-2609f5fca724",
   "metadata": {},
   "outputs": [
    {
     "name": "stdin",
     "output_type": "stream",
     "text": [
      " 3 4 -0.999 1\n"
     ]
    },
    {
     "name": "stdout",
     "output_type": "stream",
     "text": [
      "-0.999\n"
     ]
    }
   ],
   "source": [
    "l = list(map(float, input().split()))\n",
    "# l = [float(e) for e in l]\n",
    "\n",
    "l_min = l[0]\n",
    "for i in range(1,len(l)):\n",
    "    if l[i] < l_min:\n",
    "        l_min = l[i]\n",
    "print(l_min)"
   ]
  },
  {
   "cell_type": "code",
   "execution_count": 33,
   "id": "7daed52d-0d9a-4b1d-b7f0-68b3a318c8a7",
   "metadata": {},
   "outputs": [
    {
     "name": "stdin",
     "output_type": "stream",
     "text": [
      " 3 55 9.9999999 1\n"
     ]
    },
    {
     "name": "stdout",
     "output_type": "stream",
     "text": [
      "55.0\n"
     ]
    }
   ],
   "source": [
    "l = list(map(float, input().split()))\n",
    "\n",
    "l_max = l[0]\n",
    "for i in range(1,len(l)):\n",
    "    if l[i] > l_max:\n",
    "        l_max = l[i]\n",
    "print(l_max)"
   ]
  },
  {
   "cell_type": "code",
   "execution_count": 3,
   "id": "81fb1133-16c4-4b61-861f-8143e97fbda7",
   "metadata": {},
   "outputs": [
    {
     "name": "stdin",
     "output_type": "stream",
     "text": [
      "Nhập các hệ số a, b, m:  3 1 2\n",
      "Nhập các hệ số c, d, n:  1 1 2\n"
     ]
    },
    {
     "name": "stdout",
     "output_type": "stream",
     "text": [
      "Phương trình có nghiệm duy nhất (x, y) = (0.0, 2.0)\n"
     ]
    }
   ],
   "source": [
    "a, b, m = map(float, input(\"Nhập các hệ số a, b, m: \").split()) \n",
    "c, d, n = map(float, input(\"Nhập các hệ số c, d, n: \").split()) \n",
    "det = a*d-b*c \n",
    "detx = m*d-b*n\n",
    "dety = a*n-c*m\n",
    "if det != 0:\n",
    "    x = detx/det\n",
    "    y = dety/det\n",
    "    print(f\"Phương trình có nghiệm duy nhất (x, y) = ({x}, {y})\")\n",
    "else:\n",
    "    if detx != 0 or dety != 0: \n",
    "        print(\"Phương trình vô nghiệm\")\n",
    "    else:\n",
    "        print(\"Phương trình có vô số nghiệm\")"
   ]
  },
  {
   "cell_type": "code",
   "execution_count": 8,
   "id": "2e4f043d-71fc-46a5-9eb4-026a8fc23fa4",
   "metadata": {},
   "outputs": [
    {
     "name": "stdin",
     "output_type": "stream",
     "text": [
      " 10860\n"
     ]
    },
    {
     "name": "stdout",
     "output_type": "stream",
     "text": [
      "3 giờ, 1 phút, 0 giây\n"
     ]
    }
   ],
   "source": [
    "x = int(input())\n",
    "print(f\"{x//(60*60)} giờ, {x%(60*60)//60} phút, {x%60} giây\")"
   ]
  },
  {
   "cell_type": "code",
   "execution_count": 10,
   "id": "d1e509bd-7382-44bd-82f2-7347ad3c5c04",
   "metadata": {},
   "outputs": [
    {
     "name": "stdin",
     "output_type": "stream",
     "text": [
      "Toạ độ tâm đường tròn:  0 0\n",
      "Bán kính đường tròn:  3\n",
      "Toạ độ điểm A:  0 3\n"
     ]
    },
    {
     "name": "stdout",
     "output_type": "stream",
     "text": [
      "A thuộc đường tròn\n"
     ]
    }
   ],
   "source": [
    "a, b = map(float, input(\"Toạ độ tâm đường tròn: \").split())\n",
    "r = float(input(\"Bán kính đường tròn: \"))\n",
    "x, y = map(float, input(\"Toạ độ điểm A: \").split())\n",
    "\n",
    "if (x-a)**2+(y-b)**2==r**2:\n",
    "    print(\"A thuộc đường tròn\")\n",
    "else:\n",
    "    print(\"A không thuộc đường tròn\")"
   ]
  },
  {
   "cell_type": "code",
   "execution_count": 14,
   "id": "e594ef90-a16b-4caf-8ef2-09a2b89122bf",
   "metadata": {},
   "outputs": [
    {
     "name": "stdin",
     "output_type": "stream",
     "text": [
      " 3 9\n"
     ]
    },
    {
     "name": "stdout",
     "output_type": "stream",
     "text": [
      "19683.0\n"
     ]
    }
   ],
   "source": [
    "x, y = map(float, input().split())\n",
    "print(x**y)"
   ]
  }
 ],
 "metadata": {
  "kernelspec": {
   "display_name": "Python 3 (ipykernel)",
   "language": "python",
   "name": "python3"
  },
  "language_info": {
   "codemirror_mode": {
    "name": "ipython",
    "version": 3
   },
   "file_extension": ".py",
   "mimetype": "text/x-python",
   "name": "python",
   "nbconvert_exporter": "python",
   "pygments_lexer": "ipython3",
   "version": "3.13.7"
  }
 },
 "nbformat": 4,
 "nbformat_minor": 5
}
